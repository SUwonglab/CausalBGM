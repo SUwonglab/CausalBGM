{
 "cells": [
  {
   "cell_type": "markdown",
   "id": "a9cf5fca",
   "metadata": {},
   "source": [
    "# Tutorial for Python Users\n",
    "\n",
    "In this introductory tutorial, we go through the different steps of a CausalBGM workflow.\n",
    "\n",
    "Users can use CausalBGM by **Python API** or a **single command line** after installation.\n",
    "\n",
    "First of all, you need to install CausalBGM, please refer to the [install page](https://causalbgm.readthedocs.io/en/latest/installation.html).\n",
    "\n"
   ]
  },
  {
   "cell_type": "markdown",
   "id": "c449fd8c",
   "metadata": {},
   "source": [
    "<div class=\"alert alert-info\">\n",
    "<b>Notes</b>\n",
    "\n",
    "- We develop a Python Pypi package *[bayesgm](https://pypi.org/project/bayesgm/)* for AI-powered Bayesian generative modeling approaches. *CausalBGM* is one of the models in this package.\n",
    "\n",
    "- More Bayesian generative modeling approaches will be included in the future. Stay tuned!\n",
    "\n",
    "</div>"
   ]
  },
  {
   "cell_type": "code",
   "execution_count": 1,
   "id": "b102137f",
   "metadata": {
    "collapsed": true
   },
   "outputs": [
    {
     "name": "stderr",
     "output_type": "stream",
     "text": [
      "2025-01-20 11:07:12.151772: I tensorflow/core/platform/cpu_feature_guard.cc:193] This TensorFlow binary is optimized with oneAPI Deep Neural Network Library (oneDNN) to use the following CPU instructions in performance-critical operations:  AVX2 FMA\n",
      "To enable them in other operations, rebuild TensorFlow with the appropriate compiler flags.\n",
      "2025-01-20 11:07:12.282899: E tensorflow/stream_executor/cuda/cuda_blas.cc:2981] Unable to register cuBLAS factory: Attempting to register factory for plugin cuBLAS when one has already been registered\n",
      "2025-01-20 11:07:13.052515: W tensorflow/stream_executor/platform/default/dso_loader.cc:64] Could not load dynamic library 'libnvinfer.so.7'; dlerror: libnvinfer.so.7: cannot open shared object file: No such file or directory; LD_LIBRARY_PATH: /share/software/user/open/cudnn/8.1.1.33/lib64:/share/software/user/open/nccl/2.8.4/lib:/usr/lib64/nvidia:/share/software/user/open/cuda/11.2.0/targets/x86_64-linux/lib:/share/software/user/open/cuda/11.2.0/lib64:/share/software/user/open/cuda/11.2.0/nvvm/lib64:/share/software/user/open/cuda/11.2.0/extras/Debugger/lib64:/share/software/user/open/cuda/11.2.0/extras/CUPTI/lib64:/share/software/user/open/openblas/0.3.10/lib:/share/software/user/open/gcc/10.1.0/lib64:/share/software/user/open/gcc/10.1.0/lib/gcc/x86_64-pc-linux-gnu:/share/software/user/open/gcc/10.1.0/lib:/share/software/user/open/tensorrt/8.5.1.7/lib:/share/software/user/open/python/3.9.0/lib:/share/software/user/open/libffi/3.2.1/lib64:/share/software/user/open/sqlite/3.44.2/lib:/share/software/user/open/readline/8.2/lib:/share/software/user/open/ncurses/6.4/lib:/share/software/user/open/tcltk/8.6.6/lib:/share/software/user/open/libressl/3.2.1/lib:/share/software/user/open/zlib/1.2.11/lib\n",
      "2025-01-20 11:07:13.052612: W tensorflow/stream_executor/platform/default/dso_loader.cc:64] Could not load dynamic library 'libnvinfer_plugin.so.7'; dlerror: libnvinfer_plugin.so.7: cannot open shared object file: No such file or directory; LD_LIBRARY_PATH: /share/software/user/open/cudnn/8.1.1.33/lib64:/share/software/user/open/nccl/2.8.4/lib:/usr/lib64/nvidia:/share/software/user/open/cuda/11.2.0/targets/x86_64-linux/lib:/share/software/user/open/cuda/11.2.0/lib64:/share/software/user/open/cuda/11.2.0/nvvm/lib64:/share/software/user/open/cuda/11.2.0/extras/Debugger/lib64:/share/software/user/open/cuda/11.2.0/extras/CUPTI/lib64:/share/software/user/open/openblas/0.3.10/lib:/share/software/user/open/gcc/10.1.0/lib64:/share/software/user/open/gcc/10.1.0/lib/gcc/x86_64-pc-linux-gnu:/share/software/user/open/gcc/10.1.0/lib:/share/software/user/open/tensorrt/8.5.1.7/lib:/share/software/user/open/python/3.9.0/lib:/share/software/user/open/libffi/3.2.1/lib64:/share/software/user/open/sqlite/3.44.2/lib:/share/software/user/open/readline/8.2/lib:/share/software/user/open/ncurses/6.4/lib:/share/software/user/open/tcltk/8.6.6/lib:/share/software/user/open/libressl/3.2.1/lib:/share/software/user/open/zlib/1.2.11/lib\n",
      "2025-01-20 11:07:13.052619: W tensorflow/compiler/tf2tensorrt/utils/py_utils.cc:38] TF-TRT Warning: Cannot dlopen some TensorRT libraries. If you would like to use Nvidia GPU with TensorRT, please make sure the missing libraries mentioned above are installed properly.\n"
     ]
    },
    {
     "name": "stdout",
     "output_type": "stream",
     "text": [
      "Currently use version 0.2.0 of bayesgm.\n"
     ]
    }
   ],
   "source": [
    "import numpy as np\n",
    "import pandas as pd\n",
    "import yaml\n",
    "import bayesgm\n",
    "print(\"Currently use version %s of bayesgm.\"%bayesgm.__version__)"
   ]
  },
  {
   "cell_type": "markdown",
   "id": "157d39c3",
   "metadata": {},
   "source": [
    "## Use CausalBGM Python API in continous treatment setting\n",
    "\n",
    "We will use `Hirano and Imbens dataset` for an example."
   ]
  },
  {
   "cell_type": "markdown",
   "id": "3f6412e0",
   "metadata": {},
   "source": [
    "### CausalBGM Configuration Parameters\n",
    "\n",
    "Before creating a CausalBGM model, a python `dict` object should be created for configing a CausalBGM model, which are described as follows.\n",
    "\n",
    "#### General Parameters\n",
    "| Config Parameter        | Description |\n",
    "|-------------------------|-------------|\n",
    "| `dataset`               | Dataset name to indicate the input data. *Default: 'Sim_Hirano_Imbens'.* |\n",
    "| `output_dir`            | Output directory to save the results during the model training. *Default: '.'.* |\n",
    "| `save_res`              | Whether to save intermediate results. *Default: True.* |\n",
    "| `save_model`            | Whether to save the model after training. *Default: False.* |\n",
    "| `binary_treatment`      | Whether to use binary treatment settings. *Default: False.* |\n",
    "| `use_bnn`               | Whether to use Bayesian neural networks. *Default: True.* |\n",
    "\n",
    "#### Parameters for Iterative Updating Algorithm\n",
    "| Config Parameter        | Description |\n",
    "|-------------------------|-------------|\n",
    "| `z_dims`                | Latent dimensions of `Z`. *Default: [1, 1, 1, 7].* |\n",
    "| `v_dim`                 | Dimension of covariates. *Default: 200.* |\n",
    "| `lr_theta`              | Learning rate for updating model parameters. *Default: 0.0001.* |\n",
    "| `lr_z`                  | Learning rate for updating latent variables. *Default: 0.0001.* |\n",
    "| `x_min`                 | Lower bound for the treatment interval. *Default: 0.* |\n",
    "| `x_max`                 | Upper bound for the treatment interval. *Default: 3.* |\n",
    "| `g_units`               | Number of units for covariates generative model. *Default: [64, 64, 64, 64, 64].* |\n",
    "| `f_units`               | Number of units for outcome generative model. *Default: [64, 32, 8].* |\n",
    "| `h_units`               | Number of units for treatment generative model. *Default: [64, 32, 8].* |\n",
    "\n",
    "#### Parameters for EGM Initialization\n",
    "| Config Parameter        | Description |\n",
    "|-------------------------|-------------|\n",
    "| `kl_weight`             | Coefficient for KL divergence term in BNNs. *Default: 0.0001.* |\n",
    "| `lr`                    | Learning rate for EGM initialization. *Default: 0.0002.* |\n",
    "| `g_d_freq`              | Frequency for updating discriminators and generators. *Default: 5.* |\n",
    "| `use_z_rec`             | Whether to use reconstruction for latent features. *Default: True.* |\n",
    "| `e_units`               | Number of units for the encoder network. *Default: [64, 64, 64, 64, 64].* |\n",
    "| `dz_units`              | Number of units for the discriminator network in latent space. *Default: [64, 32, 8].* |"
   ]
  },
  {
   "cell_type": "markdown",
   "id": "06118a7d",
   "metadata": {},
   "source": [
    "<div class=\"alert alert-info\">\n",
    "<b>Notes</b>\n",
    "\n",
    "- Parameters with *BooleanOptionalAction* can be set as true or false by simply using their flag or prefixing with *--no-* (e.g., *--binary_treatment* or *--no-binary_treatment*).\n",
    "\n",
    "- Configure parameters carefully to suit your dataset and research objectives.\n",
    "\n",
    "- Many example config files are provided in *CausalBGM/src/configs* ([link](https://github.com/SUwonglab/CausalBGM/tree/main/src/configs)) for datasets used in the paper.\n",
    "\n",
    "</div>"
   ]
  },
  {
   "cell_type": "markdown",
   "id": "15245239",
   "metadata": {},
   "source": [
    "### Loading config parameters "
   ]
  },
  {
   "cell_type": "code",
   "execution_count": 2,
   "id": "37f5eaa6",
   "metadata": {},
   "outputs": [
    {
     "name": "stdout",
     "output_type": "stream",
     "text": [
      "{'dataset': 'Sim_Hirano_Imbens', 'output_dir': '.', 'save_res': True, 'save_model': False, 'binary_treatment': False, 'use_bnn': True, 'z_dims': [1, 1, 1, 7], 'v_dim': 200, 'lr_theta': 0.0001, 'lr_z': 0.0001, 'x_min': 0, 'x_max': 3, 'g_units': [64, 64, 64, 64, 64], 'f_units': [64, 32, 8], 'h_units': [64, 32, 8], 'kl_weight': 0.0001, 'lr': 0.0002, 'g_d_freq': 5, 'use_z_rec': True, 'e_units': [64, 64, 64, 64, 64], 'dz_units': [64, 32, 8]}\n"
     ]
    }
   ],
   "source": [
    "params = yaml.safe_load(open('../../src/configs/Sim_Hirano_Imbens.yaml', 'r'))\n",
    "print(params)"
   ]
  },
  {
   "cell_type": "markdown",
   "id": "704a67a6",
   "metadata": {},
   "source": [
    "### Instantiate a CausalBGM model"
   ]
  },
  {
   "cell_type": "code",
   "execution_count": 3,
   "id": "a56f4bb8",
   "metadata": {
    "collapsed": true
   },
   "outputs": [
    {
     "name": "stderr",
     "output_type": "stream",
     "text": [
      "2025-01-19 23:20:43.541882: I tensorflow/core/platform/cpu_feature_guard.cc:193] This TensorFlow binary is optimized with oneAPI Deep Neural Network Library (oneDNN) to use the following CPU instructions in performance-critical operations:  AVX2 FMA\n",
      "To enable them in other operations, rebuild TensorFlow with the appropriate compiler flags.\n",
      "2025-01-19 23:20:44.034248: I tensorflow/core/common_runtime/gpu/gpu_device.cc:1616] Created device /job:localhost/replica:0/task:0/device:GPU:0 with 43430 MB memory:  -> device: 0, name: NVIDIA A40, pci bus id: 0000:06:00.0, compute capability: 8.6\n",
      "/home/users/liuqiao/.local/lib/python3.9/site-packages/tensorflow_probability/python/layers/util.py:95: UserWarning: `layer.add_variable` is deprecated and will be removed in a future version. Please use the `layer.add_weight()` method instead.\n",
      "  loc = add_variable_fn(\n",
      "/home/users/liuqiao/.local/lib/python3.9/site-packages/tensorflow_probability/python/layers/util.py:105: UserWarning: `layer.add_variable` is deprecated and will be removed in a future version. Please use the `layer.add_weight()` method instead.\n",
      "  untransformed_scale = add_variable_fn(\n",
      "2025-01-19 23:20:45.121831: I tensorflow/stream_executor/cuda/cuda_blas.cc:1614] TensorFloat-32 will be used for the matrix multiplication. This will only be logged once.\n"
     ]
    }
   ],
   "source": [
    "model = bayesgm.models.CausalBGM(params=params, random_seed=None)"
   ]
  },
  {
   "cell_type": "markdown",
   "id": "6d766161",
   "metadata": {},
   "source": [
    "### Data preparation  \n",
    "\n",
    "The input data are organized in a triplet, which contains treatment (*X*), potential outcome (*Y*), and covariates (*V*)."
   ]
  },
  {
   "cell_type": "code",
   "execution_count": 4,
   "id": "20bbf256",
   "metadata": {},
   "outputs": [
    {
     "name": "stdout",
     "output_type": "stream",
     "text": [
      "(20000, 1) (20000, 1) (20000, 200)\n"
     ]
    }
   ],
   "source": [
    "from bayesgm.datasets import Sim_Hirano_Imbens_sampler\n",
    "x,y,v = Sim_Hirano_Imbens_sampler(N=20000, v_dim=200).load_all()\n",
    "print(x.shape,y.shape,v.shape)"
   ]
  },
  {
   "cell_type": "markdown",
   "id": "0b4df2ad",
   "metadata": {},
   "source": [
    "### EGM initialization\n",
    "\n",
    "Perform Encoding Generative Modeling (EGM) initialization. Note that this step can be skipped but the performance can be generally improved through EGM initialization.\n",
    "\n",
    "| Config Parameter        | Description |\n",
    "|-------------------------|-------------|\n",
    "| `data`                  | Tuple of data inputs `(x, y, v)`, *Required.* |\n",
    "| `n_iter`                | Number of iterations for the initialization process. *Default: 30,000.* |\n",
    "| `batches_per_eval`      | Frequency of evaluations (e.g., every 500 batches). *Default: 500.* |\n",
    "| `verbose`               | Controls verbosity level, showing progress and evaluation metrics. *Default: 1.* |\n",
    "\n"
   ]
  },
  {
   "cell_type": "code",
   "execution_count": 5,
   "id": "548f9ca6",
   "metadata": {
    "collapsed": true
   },
   "outputs": [
    {
     "name": "stdout",
     "output_type": "stream",
     "text": [
      "EGM Initialization Starts ...\n"
     ]
    },
    {
     "name": "stderr",
     "output_type": "stream",
     "text": [
      "/home/users/liuqiao/.local/lib/python3.9/site-packages/tensorflow_probability/python/layers/util.py:95: UserWarning: `layer.add_variable` is deprecated and will be removed in a future version. Please use the `layer.add_weight()` method instead.\n",
      "  loc = add_variable_fn(\n",
      "/home/users/liuqiao/.local/lib/python3.9/site-packages/tensorflow_probability/python/layers/util.py:105: UserWarning: `layer.add_variable` is deprecated and will be removed in a future version. Please use the `layer.add_weight()` method instead.\n",
      "  untransformed_scale = add_variable_fn(\n"
     ]
    },
    {
     "name": "stdout",
     "output_type": "stream",
     "text": [
      "EGM Initialization Iter [0] : e_loss_adv [0.0665], l2_loss_v [1.0201], l2_loss_z [1.0091], l2_loss_x [0.9462], l2_loss_y [4.3530], g_e_loss [7.3950], dz_loss [-0.0951], d_loss [1.7874]\n",
      "EGM Initialization Iter [500] : e_loss_adv [2.2277], l2_loss_v [1.0101], l2_loss_z [0.8980], l2_loss_x [11.0854], l2_loss_y [11.9196], g_e_loss [27.1409], dz_loss [-1.7254], d_loss [-1.5875]\n",
      "EGM Initialization Iter [1000] : e_loss_adv [0.9045], l2_loss_v [1.0141], l2_loss_z [0.8220], l2_loss_x [0.3612], l2_loss_y [1.8464], g_e_loss [4.9483], dz_loss [-1.2250], d_loss [-1.1138]\n",
      "EGM Initialization Iter [1500] : e_loss_adv [0.8104], l2_loss_v [1.0193], l2_loss_z [0.7354], l2_loss_x [1.6160], l2_loss_y [1.5049], g_e_loss [5.6860], dz_loss [-1.5718], d_loss [-1.3966]\n",
      "EGM Initialization Iter [2000] : e_loss_adv [0.1312], l2_loss_v [0.9763], l2_loss_z [0.6812], l2_loss_x [3.7975], l2_loss_y [1.5453], g_e_loss [7.1316], dz_loss [-0.7174], d_loss [-0.6332]\n",
      "EGM Initialization Iter [2500] : e_loss_adv [0.0660], l2_loss_v [1.0019], l2_loss_z [0.6719], l2_loss_x [0.7179], l2_loss_y [1.5844], g_e_loss [4.0423], dz_loss [-0.8022], d_loss [-0.6556]\n",
      "EGM Initialization Iter [3000] : e_loss_adv [-0.4633], l2_loss_v [0.9843], l2_loss_z [0.7143], l2_loss_x [1.3229], l2_loss_y [1.4884], g_e_loss [4.0467], dz_loss [-0.8483], d_loss [-0.6974]\n",
      "EGM Initialization Iter [3500] : e_loss_adv [-0.3985], l2_loss_v [1.0540], l2_loss_z [0.6808], l2_loss_x [3.0767], l2_loss_y [2.1216], g_e_loss [6.5350], dz_loss [-1.0160], d_loss [-0.8847]\n",
      "EGM Initialization Iter [4000] : e_loss_adv [-1.2181], l2_loss_v [1.0284], l2_loss_z [0.6057], l2_loss_x [4.2569], l2_loss_y [1.6179], g_e_loss [6.2910], dz_loss [-0.7003], d_loss [-0.4214]\n",
      "EGM Initialization Iter [4500] : e_loss_adv [-0.2958], l2_loss_v [0.9926], l2_loss_z [0.5419], l2_loss_x [2.1796], l2_loss_y [1.1480], g_e_loss [4.5662], dz_loss [-0.8237], d_loss [-0.7379]\n",
      "EGM Initialization Iter [5000] : e_loss_adv [-1.4506], l2_loss_v [1.0804], l2_loss_z [0.5424], l2_loss_x [1.0581], l2_loss_y [1.2519], g_e_loss [2.4822], dz_loss [-0.2801], d_loss [-0.1915]\n",
      "EGM Initialization Iter [5500] : e_loss_adv [-1.0486], l2_loss_v [1.0540], l2_loss_z [0.5636], l2_loss_x [3.5133], l2_loss_y [1.2593], g_e_loss [5.3416], dz_loss [-0.5249], d_loss [-0.4025]\n",
      "EGM Initialization Iter [6000] : e_loss_adv [-1.1828], l2_loss_v [1.0149], l2_loss_z [0.5253], l2_loss_x [3.4391], l2_loss_y [2.7806], g_e_loss [6.5772], dz_loss [-0.6773], d_loss [-0.6094]\n",
      "EGM Initialization Iter [6500] : e_loss_adv [-1.0474], l2_loss_v [1.0244], l2_loss_z [0.4082], l2_loss_x [10.2481], l2_loss_y [1.2138], g_e_loss [11.8472], dz_loss [-0.6328], d_loss [-0.5376]\n",
      "EGM Initialization Iter [7000] : e_loss_adv [-1.0845], l2_loss_v [1.0186], l2_loss_z [0.4230], l2_loss_x [0.9551], l2_loss_y [1.7520], g_e_loss [3.0641], dz_loss [-0.9002], d_loss [-0.8131]\n",
      "EGM Initialization Iter [7500] : e_loss_adv [-0.9853], l2_loss_v [0.9454], l2_loss_z [0.4954], l2_loss_x [3.9639], l2_loss_y [0.7497], g_e_loss [5.1692], dz_loss [-0.6524], d_loss [-0.4869]\n",
      "EGM Initialization Iter [8000] : e_loss_adv [-1.3967], l2_loss_v [1.0492], l2_loss_z [0.3451], l2_loss_x [2.0823], l2_loss_y [1.6237], g_e_loss [3.7036], dz_loss [-0.6555], d_loss [-0.5780]\n",
      "EGM Initialization Iter [8500] : e_loss_adv [-0.9031], l2_loss_v [0.9944], l2_loss_z [0.3611], l2_loss_x [2.2089], l2_loss_y [1.8151], g_e_loss [4.4764], dz_loss [-0.7352], d_loss [-0.6306]\n",
      "EGM Initialization Iter [9000] : e_loss_adv [-1.6663], l2_loss_v [1.0170], l2_loss_z [0.3568], l2_loss_x [2.8796], l2_loss_y [1.0455], g_e_loss [3.6326], dz_loss [-0.3285], d_loss [-0.2363]\n",
      "EGM Initialization Iter [9500] : e_loss_adv [-0.9498], l2_loss_v [1.0077], l2_loss_z [0.3146], l2_loss_x [1.5909], l2_loss_y [1.2582], g_e_loss [3.2216], dz_loss [-0.7356], d_loss [-0.6014]\n",
      "EGM Initialization Iter [10000] : e_loss_adv [-1.4621], l2_loss_v [1.0030], l2_loss_z [0.4137], l2_loss_x [6.0533], l2_loss_y [1.5079], g_e_loss [7.5157], dz_loss [-0.3261], d_loss [-0.1715]\n",
      "EGM Initialization Iter [10500] : e_loss_adv [-2.0376], l2_loss_v [0.9250], l2_loss_z [0.3309], l2_loss_x [0.9215], l2_loss_y [1.1855], g_e_loss [1.3254], dz_loss [-0.6358], d_loss [-0.5571]\n",
      "EGM Initialization Iter [11000] : e_loss_adv [-1.4445], l2_loss_v [0.9904], l2_loss_z [0.3741], l2_loss_x [0.7976], l2_loss_y [1.9930], g_e_loss [2.7106], dz_loss [-0.6315], d_loss [-0.5166]\n",
      "EGM Initialization Iter [11500] : e_loss_adv [-1.3796], l2_loss_v [0.9221], l2_loss_z [0.2641], l2_loss_x [0.6516], l2_loss_y [0.6797], g_e_loss [1.1380], dz_loss [-0.4220], d_loss [-0.3508]\n",
      "EGM Initialization Iter [12000] : e_loss_adv [-2.2985], l2_loss_v [0.9692], l2_loss_z [0.3361], l2_loss_x [0.6105], l2_loss_y [1.1880], g_e_loss [0.8052], dz_loss [-0.3659], d_loss [-0.3404]\n",
      "EGM Initialization Iter [12500] : e_loss_adv [-1.0221], l2_loss_v [1.0801], l2_loss_z [0.3017], l2_loss_x [3.8625], l2_loss_y [0.9875], g_e_loss [5.2097], dz_loss [-0.2649], d_loss [-0.1533]\n",
      "EGM Initialization Iter [13000] : e_loss_adv [-1.6938], l2_loss_v [1.0364], l2_loss_z [0.3227], l2_loss_x [1.6378], l2_loss_y [0.8030], g_e_loss [2.1061], dz_loss [-0.2599], d_loss [-0.2251]\n",
      "EGM Initialization Iter [13500] : e_loss_adv [-2.0262], l2_loss_v [0.9773], l2_loss_z [0.2786], l2_loss_x [1.5242], l2_loss_y [1.3340], g_e_loss [2.0879], dz_loss [0.0796], d_loss [0.1625]\n",
      "EGM Initialization Iter [14000] : e_loss_adv [-1.6383], l2_loss_v [0.9827], l2_loss_z [0.3079], l2_loss_x [3.4330], l2_loss_y [1.3977], g_e_loss [4.4830], dz_loss [-0.8057], d_loss [-0.7692]\n",
      "EGM Initialization Iter [14500] : e_loss_adv [-1.2982], l2_loss_v [0.9907], l2_loss_z [0.3152], l2_loss_x [0.3483], l2_loss_y [1.5981], g_e_loss [1.9541], dz_loss [0.0520], d_loss [0.0982]\n",
      "EGM Initialization Iter [15000] : e_loss_adv [-1.0758], l2_loss_v [0.9153], l2_loss_z [0.3357], l2_loss_x [1.4727], l2_loss_y [1.0298], g_e_loss [2.6778], dz_loss [-0.4404], d_loss [-0.3684]\n",
      "EGM Initialization Iter [15500] : e_loss_adv [-1.5797], l2_loss_v [1.0271], l2_loss_z [0.2938], l2_loss_x [1.1127], l2_loss_y [1.1701], g_e_loss [2.0240], dz_loss [0.0718], d_loss [0.1150]\n",
      "EGM Initialization Iter [16000] : e_loss_adv [-1.7908], l2_loss_v [0.9737], l2_loss_z [0.2734], l2_loss_x [1.2654], l2_loss_y [1.3726], g_e_loss [2.0944], dz_loss [-0.0743], d_loss [-0.0335]\n",
      "EGM Initialization Iter [16500] : e_loss_adv [-0.7885], l2_loss_v [1.0098], l2_loss_z [0.2770], l2_loss_x [2.3680], l2_loss_y [1.3550], g_e_loss [4.2214], dz_loss [-0.2375], d_loss [-0.1797]\n",
      "EGM Initialization Iter [17000] : e_loss_adv [-1.6229], l2_loss_v [1.0215], l2_loss_z [0.2618], l2_loss_x [1.9780], l2_loss_y [0.8558], g_e_loss [2.4944], dz_loss [0.2617], d_loss [0.3011]\n",
      "EGM Initialization Iter [17500] : e_loss_adv [-0.8748], l2_loss_v [1.0131], l2_loss_z [0.2505], l2_loss_x [1.0693], l2_loss_y [1.1017], g_e_loss [2.5598], dz_loss [-0.4672], d_loss [-0.4083]\n",
      "EGM Initialization Iter [18000] : e_loss_adv [-1.4982], l2_loss_v [1.0021], l2_loss_z [0.2682], l2_loss_x [1.0793], l2_loss_y [1.0168], g_e_loss [1.8682], dz_loss [-0.3504], d_loss [-0.2557]\n",
      "EGM Initialization Iter [18500] : e_loss_adv [-1.3725], l2_loss_v [0.9829], l2_loss_z [0.2889], l2_loss_x [2.6472], l2_loss_y [1.4434], g_e_loss [3.9901], dz_loss [-0.4419], d_loss [-0.4149]\n",
      "EGM Initialization Iter [19000] : e_loss_adv [-2.6596], l2_loss_v [1.0154], l2_loss_z [0.2687], l2_loss_x [0.9492], l2_loss_y [1.5106], g_e_loss [1.0844], dz_loss [-0.3392], d_loss [-0.3062]\n",
      "EGM Initialization Iter [19500] : e_loss_adv [-2.4381], l2_loss_v [0.9397], l2_loss_z [0.2559], l2_loss_x [16.1737], l2_loss_y [0.9619], g_e_loss [15.8932], dz_loss [-0.3034], d_loss [-0.1870]\n",
      "EGM Initialization Iter [20000] : e_loss_adv [-2.9380], l2_loss_v [1.0222], l2_loss_z [0.2191], l2_loss_x [6.1816], l2_loss_y [1.0583], g_e_loss [5.5432], dz_loss [-0.3793], d_loss [-0.3216]\n",
      "EGM Initialization Iter [20500] : e_loss_adv [-2.3116], l2_loss_v [0.9141], l2_loss_z [0.2580], l2_loss_x [2.4190], l2_loss_y [1.5711], g_e_loss [2.8506], dz_loss [0.0180], d_loss [0.0464]\n",
      "EGM Initialization Iter [21000] : e_loss_adv [-1.5426], l2_loss_v [0.9794], l2_loss_z [0.2217], l2_loss_x [2.0590], l2_loss_y [1.0496], g_e_loss [2.7670], dz_loss [-0.5308], d_loss [-0.5061]\n",
      "EGM Initialization Iter [21500] : e_loss_adv [-2.1009], l2_loss_v [1.0698], l2_loss_z [0.2918], l2_loss_x [1.4260], l2_loss_y [1.5322], g_e_loss [2.2189], dz_loss [-0.4173], d_loss [-0.3731]\n"
     ]
    },
    {
     "name": "stdout",
     "output_type": "stream",
     "text": [
      "EGM Initialization Iter [22000] : e_loss_adv [-2.6150], l2_loss_v [0.9903], l2_loss_z [0.2248], l2_loss_x [0.8365], l2_loss_y [1.2873], g_e_loss [0.7238], dz_loss [0.1986], d_loss [0.2811]\n",
      "EGM Initialization Iter [22500] : e_loss_adv [-2.4646], l2_loss_v [0.9223], l2_loss_z [0.2612], l2_loss_x [1.4485], l2_loss_y [0.9124], g_e_loss [1.0799], dz_loss [-0.5709], d_loss [-0.4917]\n",
      "EGM Initialization Iter [23000] : e_loss_adv [-1.5274], l2_loss_v [0.9558], l2_loss_z [0.2414], l2_loss_x [0.5077], l2_loss_y [0.9048], g_e_loss [1.0824], dz_loss [-0.4832], d_loss [-0.4351]\n",
      "EGM Initialization Iter [23500] : e_loss_adv [-2.8291], l2_loss_v [0.9323], l2_loss_z [0.2230], l2_loss_x [0.3300], l2_loss_y [0.8511], g_e_loss [-0.4928], dz_loss [-0.0390], d_loss [-0.0077]\n",
      "EGM Initialization Iter [24000] : e_loss_adv [-2.7735], l2_loss_v [0.9290], l2_loss_z [0.2478], l2_loss_x [2.4516], l2_loss_y [1.2566], g_e_loss [2.1115], dz_loss [-0.1437], d_loss [-0.0888]\n",
      "EGM Initialization Iter [24500] : e_loss_adv [-2.1108], l2_loss_v [0.9673], l2_loss_z [0.2149], l2_loss_x [0.3527], l2_loss_y [0.8402], g_e_loss [0.2643], dz_loss [-0.6212], d_loss [-0.5488]\n",
      "EGM Initialization Iter [25000] : e_loss_adv [-1.2863], l2_loss_v [0.9667], l2_loss_z [0.1912], l2_loss_x [0.4945], l2_loss_y [2.3700], g_e_loss [2.7360], dz_loss [-0.3730], d_loss [-0.3328]\n",
      "EGM Initialization Iter [25500] : e_loss_adv [-2.5365], l2_loss_v [0.9958], l2_loss_z [0.2306], l2_loss_x [7.1405], l2_loss_y [1.5327], g_e_loss [7.3633], dz_loss [-0.1544], d_loss [-0.0420]\n",
      "EGM Initialization Iter [26000] : e_loss_adv [-1.4440], l2_loss_v [1.0204], l2_loss_z [0.2422], l2_loss_x [11.7947], l2_loss_y [1.1342], g_e_loss [12.7477], dz_loss [-0.5110], d_loss [-0.4243]\n",
      "EGM Initialization Iter [26500] : e_loss_adv [-2.9264], l2_loss_v [1.0697], l2_loss_z [0.2353], l2_loss_x [1.7143], l2_loss_y [1.4107], g_e_loss [1.5037], dz_loss [0.1077], d_loss [0.1488]\n",
      "EGM Initialization Iter [27000] : e_loss_adv [-3.4427], l2_loss_v [0.8793], l2_loss_z [0.2358], l2_loss_x [0.9221], l2_loss_y [0.9568], g_e_loss [-0.4487], dz_loss [-0.0692], d_loss [-0.0077]\n",
      "EGM Initialization Iter [27500] : e_loss_adv [-4.1399], l2_loss_v [0.9550], l2_loss_z [0.2366], l2_loss_x [4.5362], l2_loss_y [1.6982], g_e_loss [3.2861], dz_loss [-0.4448], d_loss [-0.4042]\n",
      "EGM Initialization Iter [28000] : e_loss_adv [-3.5283], l2_loss_v [1.0043], l2_loss_z [0.1966], l2_loss_x [2.6306], l2_loss_y [1.2200], g_e_loss [1.5231], dz_loss [-0.3430], d_loss [-0.2504]\n",
      "EGM Initialization Iter [28500] : e_loss_adv [-3.6901], l2_loss_v [1.0294], l2_loss_z [0.1942], l2_loss_x [0.5309], l2_loss_y [0.7065], g_e_loss [-1.2291], dz_loss [0.0959], d_loss [0.1617]\n",
      "EGM Initialization Iter [29000] : e_loss_adv [-6.0185], l2_loss_v [0.9522], l2_loss_z [0.2221], l2_loss_x [0.7358], l2_loss_y [1.4583], g_e_loss [-2.6502], dz_loss [0.3396], d_loss [0.3845]\n",
      "EGM Initialization Iter [29500] : e_loss_adv [-4.5665], l2_loss_v [1.0002], l2_loss_z [0.2059], l2_loss_x [0.9342], l2_loss_y [1.2663], g_e_loss [-1.1600], dz_loss [-0.2387], d_loss [-0.2122]\n",
      "EGM Initialization Iter [30000] : e_loss_adv [-3.1259], l2_loss_v [0.9473], l2_loss_z [0.2150], l2_loss_x [2.4159], l2_loss_y [0.9638], g_e_loss [1.4162], dz_loss [-0.2085], d_loss [-0.1498]\n",
      "EGM Initialization Ends.\n"
     ]
    }
   ],
   "source": [
    "model.egm_init(data=(x,y,v), n_iter=30000, batches_per_eval=500, verbose=1)"
   ]
  },
  {
   "cell_type": "markdown",
   "id": "25e8dcf8",
   "metadata": {},
   "source": [
    "### Train the model with an iterative updating algorithm\n",
    "\n",
    "| Config Parameter        | Description |\n",
    "|-------------------------|-------------|\n",
    "| `batch_size`            | Batch size for training. *Default: 32.* |\n",
    "| `epochs`                | Number of epochs for training. *Default: 100.* |\n",
    "| `epochs_per_eval`       | Frequency of evaluations during training (e.g., every 5 epochs). *Default: 5.* |\n",
    "| `startoff`              | Starting epoch for evaluation. *Default: 0.* |\n",
    "| `verbose`               | Controls verbosity level, showing training progress and metrics. *Default: 1.* |\n",
    "| `save_format`           | Format for saving results. *Default: 'txt'.* |\n"
   ]
  },
  {
   "cell_type": "code",
   "execution_count": 6,
   "id": "ddbefe0c",
   "metadata": {
    "collapsed": true
   },
   "outputs": [
    {
     "name": "stdout",
     "output_type": "stream",
     "text": [
      "Initialize latent variables Z with e(V)...\n",
      "Iterative Updating Starts ...\n"
     ]
    },
    {
     "name": "stderr",
     "output_type": "stream",
     "text": [
      "Epoch 0/100: 100%|██████████| 625/625 [00:26<00:00, 23.29batch/s, loss_px_z: [0.9353], loss_mse_x: [0.7314], loss_py_z: [1.6521], loss_mse_y: [1.7054], loss_pv_z: [103.2145], loss_mse_v: [0.9457], loss_postrior_z: [100.7249]]   \n"
     ]
    },
    {
     "name": "stdout",
     "output_type": "stream",
     "text": [
      "Epoch [0/100]: MSE_x: 2.2188, MSE_y: 1.2527, MSE_v: 0.9735\n",
      "\n"
     ]
    },
    {
     "name": "stderr",
     "output_type": "stream",
     "text": [
      "Epoch 1/100: 100%|██████████| 625/625 [00:17<00:00, 36.73batch/s, loss_px_z: [0.8907], loss_mse_x: [0.6550], loss_py_z: [1.3834], loss_mse_y: [1.4043], loss_pv_z: [101.5169], loss_mse_v: [0.9349], loss_postrior_z: [98.9615]]   \n",
      "Epoch 2/100: 100%|██████████| 625/625 [00:16<00:00, 36.90batch/s, loss_px_z: [1.2012], loss_mse_x: [1.2690], loss_py_z: [1.1520], loss_mse_y: [1.0595], loss_pv_z: [103.6083], loss_mse_v: [0.9580], loss_postrior_z: [103.0433]]  \n",
      "Epoch 3/100: 100%|██████████| 625/625 [00:17<00:00, 36.44batch/s, loss_px_z: [1.7454], loss_mse_x: [2.1775], loss_py_z: [1.2034], loss_mse_y: [1.1893], loss_pv_z: [111.9785], loss_mse_v: [1.0391], loss_postrior_z: [110.3120]]  \n",
      "Epoch 4/100: 100%|██████████| 625/625 [00:17<00:00, 36.70batch/s, loss_px_z: [0.6924], loss_mse_x: [0.5447], loss_py_z: [1.1474], loss_mse_y: [1.1034], loss_pv_z: [109.2718], loss_mse_v: [1.0101], loss_postrior_z: [106.8440]]  \n",
      "Epoch 5/100: 100%|██████████| 625/625 [00:17<00:00, 36.51batch/s, loss_px_z: [0.9359], loss_mse_x: [0.9428], loss_py_z: [1.0254], loss_mse_y: [0.7876], loss_pv_z: [111.2082], loss_mse_v: [1.0300], loss_postrior_z: [108.3205]] \n",
      "Epoch 6/100: 100%|██████████| 625/625 [00:17<00:00, 36.61batch/s, loss_px_z: [0.9424], loss_mse_x: [0.9346], loss_py_z: [1.3863], loss_mse_y: [1.6340], loss_pv_z: [103.8321], loss_mse_v: [0.9592], loss_postrior_z: [101.6897]] \n",
      "Epoch 7/100: 100%|██████████| 625/625 [00:17<00:00, 36.33batch/s, loss_px_z: [1.2094], loss_mse_x: [3.5293], loss_py_z: [0.9635], loss_mse_y: [0.7449], loss_pv_z: [104.7298], loss_mse_v: [0.9683], loss_postrior_z: [103.0978]]  \n",
      "Epoch 8/100: 100%|██████████| 625/625 [00:16<00:00, 37.05batch/s, loss_px_z: [0.8328], loss_mse_x: [0.9774], loss_py_z: [1.3267], loss_mse_y: [1.5793], loss_pv_z: [108.8171], loss_mse_v: [1.0110], loss_postrior_z: [106.5602]] \n",
      "Epoch 9/100: 100%|██████████| 625/625 [00:16<00:00, 36.78batch/s, loss_px_z: [0.8449], loss_mse_x: [1.2547], loss_py_z: [1.0051], loss_mse_y: [0.8621], loss_pv_z: [104.9686], loss_mse_v: [0.9741], loss_postrior_z: [102.4712]] \n",
      "Epoch 10/100: 100%|██████████| 625/625 [00:16<00:00, 36.85batch/s, loss_px_z: [0.6630], loss_mse_x: [0.8792], loss_py_z: [1.2816], loss_mse_y: [1.4835], loss_pv_z: [99.6124], loss_mse_v: [0.9183], loss_postrior_z: [96.2378]]   \n"
     ]
    },
    {
     "name": "stdout",
     "output_type": "stream",
     "text": [
      "Epoch [10/100]: MSE_x: 2.5815, MSE_y: 1.2891, MSE_v: 0.9687\n",
      "\n"
     ]
    },
    {
     "name": "stderr",
     "output_type": "stream",
     "text": [
      "Epoch 11/100: 100%|██████████| 625/625 [00:17<00:00, 36.54batch/s, loss_px_z: [0.6143], loss_mse_x: [0.7238], loss_py_z: [1.1849], loss_mse_y: [1.2957], loss_pv_z: [95.9283], loss_mse_v: [0.8856], loss_postrior_z: [93.4657]]    \n",
      "Epoch 12/100: 100%|██████████| 625/625 [00:16<00:00, 36.84batch/s, loss_px_z: [1.5282], loss_mse_x: [2.4600], loss_py_z: [1.2072], loss_mse_y: [1.3450], loss_pv_z: [98.5037], loss_mse_v: [0.9106], loss_postrior_z: [96.6714]]    \n",
      "Epoch 13/100: 100%|██████████| 625/625 [00:17<00:00, 36.42batch/s, loss_px_z: [0.8563], loss_mse_x: [1.4118], loss_py_z: [1.2187], loss_mse_y: [1.3625], loss_pv_z: [104.6649], loss_mse_v: [0.9692], loss_postrior_z: [102.1816]]  \n",
      "Epoch 14/100: 100%|██████████| 625/625 [00:16<00:00, 36.77batch/s, loss_px_z: [0.6619], loss_mse_x: [2.2514], loss_py_z: [1.1658], loss_mse_y: [1.7299], loss_pv_z: [102.5846], loss_mse_v: [0.9469], loss_postrior_z: [100.2552]]  \n",
      "Epoch 15/100: 100%|██████████| 625/625 [00:17<00:00, 36.75batch/s, loss_px_z: [1.1533], loss_mse_x: [3.1810], loss_py_z: [1.1405], loss_mse_y: [1.2640], loss_pv_z: [103.5310], loss_mse_v: [0.9575], loss_postrior_z: [101.6423]]   \n",
      "Epoch 16/100: 100%|██████████| 625/625 [00:17<00:00, 36.56batch/s, loss_px_z: [0.9103], loss_mse_x: [1.8153], loss_py_z: [1.0845], loss_mse_y: [1.1258], loss_pv_z: [105.8454], loss_mse_v: [0.9848], loss_postrior_z: [104.0291]]  \n",
      "Epoch 17/100: 100%|██████████| 625/625 [00:17<00:00, 36.63batch/s, loss_px_z: [1.1787], loss_mse_x: [0.8997], loss_py_z: [1.1814], loss_mse_y: [1.3375], loss_pv_z: [107.1364], loss_mse_v: [0.9937], loss_postrior_z: [105.7110]]  \n",
      "Epoch 18/100: 100%|██████████| 625/625 [00:16<00:00, 36.89batch/s, loss_px_z: [0.6579], loss_mse_x: [1.4159], loss_py_z: [1.0125], loss_mse_y: [1.0007], loss_pv_z: [102.1875], loss_mse_v: [0.9461], loss_postrior_z: [99.7076]]   \n",
      "Epoch 19/100: 100%|██████████| 625/625 [00:17<00:00, 36.69batch/s, loss_px_z: [1.1732], loss_mse_x: [1.1082], loss_py_z: [1.0071], loss_mse_y: [1.0651], loss_pv_z: [104.8202], loss_mse_v: [0.9714], loss_postrior_z: [102.9788]]  \n",
      "Epoch 20/100: 100%|██████████| 625/625 [00:17<00:00, 36.50batch/s, loss_px_z: [0.9555], loss_mse_x: [6.1386], loss_py_z: [1.4216], loss_mse_y: [2.0692], loss_pv_z: [103.8186], loss_mse_v: [0.9595], loss_postrior_z: [103.1262]] \n"
     ]
    },
    {
     "name": "stdout",
     "output_type": "stream",
     "text": [
      "Epoch [20/100]: MSE_x: 2.7672, MSE_y: 1.2611, MSE_v: 0.9679\n",
      "\n"
     ]
    },
    {
     "name": "stderr",
     "output_type": "stream",
     "text": [
      "Epoch 21/100: 100%|██████████| 625/625 [00:16<00:00, 37.00batch/s, loss_px_z: [0.8328], loss_mse_x: [2.1627], loss_py_z: [1.0992], loss_mse_y: [1.3573], loss_pv_z: [100.4526], loss_mse_v: [0.9290], loss_postrior_z: [98.0904]]   \n",
      "Epoch 22/100: 100%|██████████| 625/625 [00:16<00:00, 36.85batch/s, loss_px_z: [0.5528], loss_mse_x: [1.2148], loss_py_z: [1.0240], loss_mse_y: [1.1254], loss_pv_z: [104.0756], loss_mse_v: [0.9668], loss_postrior_z: [101.2968]]  \n",
      "Epoch 23/100: 100%|██████████| 625/625 [00:17<00:00, 36.73batch/s, loss_px_z: [0.7379], loss_mse_x: [2.1216], loss_py_z: [1.0759], loss_mse_y: [1.3124], loss_pv_z: [105.4103], loss_mse_v: [0.9776], loss_postrior_z: [103.4952]]   \n",
      "Epoch 24/100: 100%|██████████| 625/625 [00:17<00:00, 36.62batch/s, loss_px_z: [0.3547], loss_mse_x: [1.0448], loss_py_z: [1.2025], loss_mse_y: [1.6270], loss_pv_z: [102.5878], loss_mse_v: [0.9532], loss_postrior_z: [100.1571]]   \n",
      "Epoch 25/100: 100%|██████████| 625/625 [00:17<00:00, 36.66batch/s, loss_px_z: [0.6377], loss_mse_x: [2.3691], loss_py_z: [0.9860], loss_mse_y: [1.0794], loss_pv_z: [106.3651], loss_mse_v: [0.9856], loss_postrior_z: [104.5001]]  \n",
      "Epoch 26/100: 100%|██████████| 625/625 [00:16<00:00, 37.13batch/s, loss_px_z: [1.0036], loss_mse_x: [1.7937], loss_py_z: [0.8828], loss_mse_y: [0.7863], loss_pv_z: [110.8940], loss_mse_v: [1.0334], loss_postrior_z: [107.9460]]  \n",
      "Epoch 27/100: 100%|██████████| 625/625 [00:16<00:00, 37.04batch/s, loss_px_z: [0.5976], loss_mse_x: [3.2257], loss_py_z: [0.8822], loss_mse_y: [0.8529], loss_pv_z: [102.5060], loss_mse_v: [0.9517], loss_postrior_z: [99.8363]]   \n",
      "Epoch 28/100: 100%|██████████| 625/625 [00:16<00:00, 36.93batch/s, loss_px_z: [1.1061], loss_mse_x: [1.5722], loss_py_z: [0.8794], loss_mse_y: [0.7661], loss_pv_z: [105.9384], loss_mse_v: [0.9830], loss_postrior_z: [103.0649]]   \n",
      "Epoch 29/100: 100%|██████████| 625/625 [00:17<00:00, 36.25batch/s, loss_px_z: [0.6004], loss_mse_x: [1.0096], loss_py_z: [0.9695], loss_mse_y: [1.0614], loss_pv_z: [107.7533], loss_mse_v: [0.9984], loss_postrior_z: [105.4999]]  \n",
      "Epoch 30/100: 100%|██████████| 625/625 [00:16<00:00, 37.08batch/s, loss_px_z: [0.7155], loss_mse_x: [1.6392], loss_py_z: [1.0509], loss_mse_y: [1.2649], loss_pv_z: [109.0560], loss_mse_v: [1.0120], loss_postrior_z: [107.4968]] \n"
     ]
    },
    {
     "name": "stdout",
     "output_type": "stream",
     "text": [
      "Epoch [30/100]: MSE_x: 2.4866, MSE_y: 1.2518, MSE_v: 0.9672\n",
      "\n"
     ]
    },
    {
     "name": "stderr",
     "output_type": "stream",
     "text": [
      "Epoch 31/100: 100%|██████████| 625/625 [00:17<00:00, 36.75batch/s, loss_px_z: [0.5234], loss_mse_x: [0.7150], loss_py_z: [1.1353], loss_mse_y: [1.4737], loss_pv_z: [101.8111], loss_mse_v: [0.9447], loss_postrior_z: [99.2525]]   \n",
      "Epoch 32/100: 100%|██████████| 625/625 [00:17<00:00, 36.73batch/s, loss_px_z: [0.3478], loss_mse_x: [0.7174], loss_py_z: [0.8886], loss_mse_y: [0.8227], loss_pv_z: [99.4167], loss_mse_v: [0.9213], loss_postrior_z: [95.8205]]    \n",
      "Epoch 33/100: 100%|██████████| 625/625 [00:17<00:00, 36.35batch/s, loss_px_z: [0.7395], loss_mse_x: [1.0502], loss_py_z: [1.1130], loss_mse_y: [1.4444], loss_pv_z: [108.8399], loss_mse_v: [1.0161], loss_postrior_z: [107.6710]]  \n",
      "Epoch 34/100: 100%|██████████| 625/625 [00:16<00:00, 36.80batch/s, loss_px_z: [0.5231], loss_mse_x: [0.9967], loss_py_z: [1.2596], loss_mse_y: [1.7037], loss_pv_z: [105.4947], loss_mse_v: [0.9807], loss_postrior_z: [102.8795]] \n",
      "Epoch 35/100: 100%|██████████| 625/625 [00:16<00:00, 36.80batch/s, loss_px_z: [1.7845], loss_mse_x: [3.7373], loss_py_z: [1.0935], loss_mse_y: [1.4700], loss_pv_z: [109.0078], loss_mse_v: [1.0186], loss_postrior_z: [107.3562]]  \n",
      "Epoch 36/100: 100%|██████████| 625/625 [00:17<00:00, 36.54batch/s, loss_px_z: [0.5303], loss_mse_x: [0.9380], loss_py_z: [1.1264], loss_mse_y: [1.4508], loss_pv_z: [98.2222], loss_mse_v: [0.9097], loss_postrior_z: [97.5793]]    \n",
      "Epoch 37/100: 100%|██████████| 625/625 [00:16<00:00, 37.03batch/s, loss_px_z: [1.0514], loss_mse_x: [2.9798], loss_py_z: [1.1553], loss_mse_y: [1.5178], loss_pv_z: [99.5691], loss_mse_v: [0.9225], loss_postrior_z: [98.4347]]   \n",
      "Epoch 38/100: 100%|██████████| 625/625 [00:17<00:00, 36.59batch/s, loss_px_z: [0.4392], loss_mse_x: [1.0914], loss_py_z: [0.8523], loss_mse_y: [0.8543], loss_pv_z: [106.7206], loss_mse_v: [0.9902], loss_postrior_z: [104.1794]]   \n",
      "Epoch 39/100: 100%|██████████| 625/625 [00:17<00:00, 36.67batch/s, loss_px_z: [0.6020], loss_mse_x: [2.1897], loss_py_z: [1.0524], loss_mse_y: [1.2948], loss_pv_z: [105.4921], loss_mse_v: [0.9825], loss_postrior_z: [103.9829]]   \n",
      "Epoch 40/100: 100%|██████████| 625/625 [00:17<00:00, 36.37batch/s, loss_px_z: [0.7066], loss_mse_x: [0.8722], loss_py_z: [0.9005], loss_mse_y: [1.1601], loss_pv_z: [105.7172], loss_mse_v: [0.9855], loss_postrior_z: [104.7077]]  \n"
     ]
    },
    {
     "name": "stdout",
     "output_type": "stream",
     "text": [
      "Epoch [40/100]: MSE_x: 2.4951, MSE_y: 1.2778, MSE_v: 0.9668\n",
      "\n"
     ]
    },
    {
     "name": "stderr",
     "output_type": "stream",
     "text": [
      "Epoch 41/100: 100%|██████████| 625/625 [00:17<00:00, 36.36batch/s, loss_px_z: [0.5431], loss_mse_x: [0.7321], loss_py_z: [0.8809], loss_mse_y: [0.9396], loss_pv_z: [100.7104], loss_mse_v: [0.9333], loss_postrior_z: [98.6996]]   \n",
      "Epoch 42/100: 100%|██████████| 625/625 [00:17<00:00, 36.52batch/s, loss_px_z: [0.9991], loss_mse_x: [1.4524], loss_py_z: [1.1660], loss_mse_y: [1.6550], loss_pv_z: [99.7294], loss_mse_v: [0.9265], loss_postrior_z: [98.0964]]    \n",
      "Epoch 43/100: 100%|██████████| 625/625 [00:16<00:00, 36.92batch/s, loss_px_z: [0.5333], loss_mse_x: [0.6220], loss_py_z: [0.9028], loss_mse_y: [0.9607], loss_pv_z: [102.6520], loss_mse_v: [0.9545], loss_postrior_z: [100.4533]] \n",
      "Epoch 44/100: 100%|██████████| 625/625 [00:16<00:00, 36.82batch/s, loss_px_z: [0.6492], loss_mse_x: [3.8655], loss_py_z: [0.9143], loss_mse_y: [1.0424], loss_pv_z: [106.4472], loss_mse_v: [0.9895], loss_postrior_z: [104.1679]] \n",
      "Epoch 45/100: 100%|██████████| 625/625 [00:17<00:00, 36.42batch/s, loss_px_z: [0.4948], loss_mse_x: [1.2818], loss_py_z: [0.9237], loss_mse_y: [1.0255], loss_pv_z: [98.0059], loss_mse_v: [0.9116], loss_postrior_z: [94.5350]]    \n",
      "Epoch 46/100: 100%|██████████| 625/625 [00:17<00:00, 36.41batch/s, loss_px_z: [0.5253], loss_mse_x: [0.8421], loss_py_z: [0.9138], loss_mse_y: [0.9627], loss_pv_z: [104.6076], loss_mse_v: [0.9739], loss_postrior_z: [102.6947]] \n",
      "Epoch 47/100: 100%|██████████| 625/625 [00:17<00:00, 36.23batch/s, loss_px_z: [1.6610], loss_mse_x: [7.3319], loss_py_z: [0.9754], loss_mse_y: [1.3438], loss_pv_z: [103.3610], loss_mse_v: [0.9617], loss_postrior_z: [102.3205]] \n",
      "Epoch 48/100: 100%|██████████| 625/625 [00:17<00:00, 36.62batch/s, loss_px_z: [0.3963], loss_mse_x: [0.3908], loss_py_z: [0.9521], loss_mse_y: [1.2891], loss_pv_z: [104.9732], loss_mse_v: [0.9807], loss_postrior_z: [103.1829]]  \n",
      "Epoch 49/100: 100%|██████████| 625/625 [00:17<00:00, 36.55batch/s, loss_px_z: [0.4967], loss_mse_x: [0.9054], loss_py_z: [0.9849], loss_mse_y: [1.3397], loss_pv_z: [104.0031], loss_mse_v: [0.9661], loss_postrior_z: [102.2291]]  \n",
      "Epoch 50/100: 100%|██████████| 625/625 [00:16<00:00, 36.78batch/s, loss_px_z: [0.7411], loss_mse_x: [1.4187], loss_py_z: [0.9936], loss_mse_y: [1.2935], loss_pv_z: [111.8437], loss_mse_v: [1.0431], loss_postrior_z: [110.7148]]  \n"
     ]
    },
    {
     "name": "stdout",
     "output_type": "stream",
     "text": [
      "Epoch [50/100]: MSE_x: 2.4098, MSE_y: 1.2308, MSE_v: 0.9669\n",
      "\n"
     ]
    },
    {
     "name": "stderr",
     "output_type": "stream",
     "text": [
      "Epoch 51/100: 100%|██████████| 625/625 [00:17<00:00, 36.68batch/s, loss_px_z: [0.6241], loss_mse_x: [1.7183], loss_py_z: [0.9929], loss_mse_y: [1.3011], loss_pv_z: [103.9314], loss_mse_v: [0.9653], loss_postrior_z: [101.9964]] \n",
      "Epoch 52/100: 100%|██████████| 625/625 [00:17<00:00, 36.76batch/s, loss_px_z: [0.5011], loss_mse_x: [0.6623], loss_py_z: [1.2098], loss_mse_y: [1.8074], loss_pv_z: [103.7781], loss_mse_v: [0.9653], loss_postrior_z: [101.9649]] \n",
      "Epoch 53/100: 100%|██████████| 625/625 [00:16<00:00, 36.79batch/s, loss_px_z: [0.4770], loss_mse_x: [1.3070], loss_py_z: [1.0203], loss_mse_y: [1.2988], loss_pv_z: [104.8078], loss_mse_v: [0.9772], loss_postrior_z: [102.2681]]  \n",
      "Epoch 54/100: 100%|██████████| 625/625 [00:16<00:00, 36.82batch/s, loss_px_z: [0.5723], loss_mse_x: [0.6485], loss_py_z: [0.8872], loss_mse_y: [1.0372], loss_pv_z: [103.9584], loss_mse_v: [0.9646], loss_postrior_z: [101.0954]] \n",
      "Epoch 55/100: 100%|██████████| 625/625 [00:17<00:00, 36.52batch/s, loss_px_z: [0.9303], loss_mse_x: [23.1558], loss_py_z: [0.7863], loss_mse_y: [0.7554], loss_pv_z: [99.2632], loss_mse_v: [0.9209], loss_postrior_z: [96.6672]]   \n",
      "Epoch 56/100: 100%|██████████| 625/625 [00:17<00:00, 36.55batch/s, loss_px_z: [0.3922], loss_mse_x: [0.3061], loss_py_z: [0.9327], loss_mse_y: [1.1394], loss_pv_z: [107.1741], loss_mse_v: [0.9998], loss_postrior_z: [104.6261]] \n",
      "Epoch 57/100: 100%|██████████| 625/625 [00:17<00:00, 36.34batch/s, loss_px_z: [0.3660], loss_mse_x: [0.7436], loss_py_z: [0.8104], loss_mse_y: [0.8315], loss_pv_z: [105.0707], loss_mse_v: [0.9790], loss_postrior_z: [103.0646]] \n",
      "Epoch 58/100: 100%|██████████| 625/625 [00:17<00:00, 36.49batch/s, loss_px_z: [0.4569], loss_mse_x: [0.5641], loss_py_z: [0.8588], loss_mse_y: [1.0513], loss_pv_z: [106.0159], loss_mse_v: [0.9897], loss_postrior_z: [104.9739]] \n",
      "Epoch 59/100: 100%|██████████| 625/625 [00:17<00:00, 36.62batch/s, loss_px_z: [0.3053], loss_mse_x: [1.5726], loss_py_z: [1.0408], loss_mse_y: [1.5986], loss_pv_z: [96.6699], loss_mse_v: [0.8977], loss_postrior_z: [94.9444]]     \n",
      "Epoch 60/100: 100%|██████████| 625/625 [00:17<00:00, 36.70batch/s, loss_px_z: [0.5066], loss_mse_x: [0.6818], loss_py_z: [0.7969], loss_mse_y: [0.9428], loss_pv_z: [104.1335], loss_mse_v: [0.9722], loss_postrior_z: [101.7947]]  \n"
     ]
    },
    {
     "name": "stdout",
     "output_type": "stream",
     "text": [
      "Epoch [60/100]: MSE_x: 2.4814, MSE_y: 1.2385, MSE_v: 0.9666\n",
      "\n"
     ]
    },
    {
     "name": "stderr",
     "output_type": "stream",
     "text": [
      "Epoch 61/100: 100%|██████████| 625/625 [00:17<00:00, 36.40batch/s, loss_px_z: [0.4389], loss_mse_x: [0.8602], loss_py_z: [0.9951], loss_mse_y: [1.3327], loss_pv_z: [104.5518], loss_mse_v: [0.9732], loss_postrior_z: [102.7115]] \n",
      "Epoch 62/100: 100%|██████████| 625/625 [00:17<00:00, 36.70batch/s, loss_px_z: [0.8277], loss_mse_x: [1.9833], loss_py_z: [0.8532], loss_mse_y: [0.9743], loss_pv_z: [102.6204], loss_mse_v: [0.9557], loss_postrior_z: [100.9122]]  \n",
      "Epoch 63/100: 100%|██████████| 625/625 [00:16<00:00, 36.92batch/s, loss_px_z: [0.7707], loss_mse_x: [1.7500], loss_py_z: [1.0062], loss_mse_y: [1.4749], loss_pv_z: [102.2018], loss_mse_v: [0.9510], loss_postrior_z: [101.2066]] \n",
      "Epoch 64/100: 100%|██████████| 625/625 [00:17<00:00, 36.07batch/s, loss_px_z: [1.8509], loss_mse_x: [3.3047], loss_py_z: [0.8782], loss_mse_y: [1.1635], loss_pv_z: [96.6785], loss_mse_v: [0.8985], loss_postrior_z: [96.1236]]     \n",
      "Epoch 65/100: 100%|██████████| 625/625 [00:17<00:00, 36.54batch/s, loss_px_z: [0.5894], loss_mse_x: [1.5507], loss_py_z: [0.8613], loss_mse_y: [0.9465], loss_pv_z: [107.4707], loss_mse_v: [1.0000], loss_postrior_z: [107.5319]]  \n",
      "Epoch 66/100: 100%|██████████| 625/625 [00:17<00:00, 36.61batch/s, loss_px_z: [0.5348], loss_mse_x: [3.5672], loss_py_z: [0.9535], loss_mse_y: [1.3886], loss_pv_z: [103.5289], loss_mse_v: [0.9599], loss_postrior_z: [104.3862]] \n",
      "Epoch 67/100: 100%|██████████| 625/625 [00:17<00:00, 36.50batch/s, loss_px_z: [0.3861], loss_mse_x: [0.5167], loss_py_z: [0.7156], loss_mse_y: [0.7085], loss_pv_z: [104.6541], loss_mse_v: [0.9774], loss_postrior_z: [102.0435]]  \n",
      "Epoch 68/100: 100%|██████████| 625/625 [00:17<00:00, 36.59batch/s, loss_px_z: [0.2587], loss_mse_x: [0.5912], loss_py_z: [1.0082], loss_mse_y: [1.2966], loss_pv_z: [104.2210], loss_mse_v: [0.9738], loss_postrior_z: [102.3559]]  \n",
      "Epoch 69/100: 100%|██████████| 625/625 [00:16<00:00, 36.91batch/s, loss_px_z: [0.5479], loss_mse_x: [1.2232], loss_py_z: [0.8530], loss_mse_y: [1.0528], loss_pv_z: [103.7484], loss_mse_v: [0.9682], loss_postrior_z: [101.7302]] \n",
      "Epoch 70/100: 100%|██████████| 625/625 [00:17<00:00, 36.43batch/s, loss_px_z: [0.6861], loss_mse_x: [0.9651], loss_py_z: [0.9000], loss_mse_y: [1.2940], loss_pv_z: [104.4632], loss_mse_v: [0.9750], loss_postrior_z: [102.8140]] \n"
     ]
    },
    {
     "name": "stdout",
     "output_type": "stream",
     "text": [
      "Epoch [70/100]: MSE_x: 2.3544, MSE_y: 1.2310, MSE_v: 0.9665\n",
      "\n"
     ]
    },
    {
     "name": "stderr",
     "output_type": "stream",
     "text": [
      "Epoch 71/100: 100%|██████████| 625/625 [00:17<00:00, 36.63batch/s, loss_px_z: [1.5836], loss_mse_x: [5.5470], loss_py_z: [0.8960], loss_mse_y: [1.7963], loss_pv_z: [99.6503], loss_mse_v: [0.9274], loss_postrior_z: [99.5669]]    \n",
      "Epoch 72/100: 100%|██████████| 625/625 [00:17<00:00, 36.71batch/s, loss_px_z: [0.5513], loss_mse_x: [1.6579], loss_py_z: [0.7532], loss_mse_y: [0.8431], loss_pv_z: [104.7993], loss_mse_v: [0.9777], loss_postrior_z: [103.4532]] \n",
      "Epoch 73/100: 100%|██████████| 625/625 [00:16<00:00, 36.77batch/s, loss_px_z: [1.2145], loss_mse_x: [1.4118], loss_py_z: [0.8331], loss_mse_y: [1.0220], loss_pv_z: [103.8438], loss_mse_v: [0.9658], loss_postrior_z: [102.6946]]  \n",
      "Epoch 74/100: 100%|██████████| 625/625 [00:16<00:00, 36.87batch/s, loss_px_z: [0.7137], loss_mse_x: [1.7643], loss_py_z: [0.8717], loss_mse_y: [1.1051], loss_pv_z: [102.5760], loss_mse_v: [0.9570], loss_postrior_z: [101.6129]] \n",
      "Epoch 75/100: 100%|██████████| 625/625 [00:16<00:00, 36.94batch/s, loss_px_z: [0.3644], loss_mse_x: [0.9562], loss_py_z: [1.0286], loss_mse_y: [1.4529], loss_pv_z: [109.2603], loss_mse_v: [1.0213], loss_postrior_z: [107.9805]]  \n",
      "Epoch 76/100: 100%|██████████| 625/625 [00:17<00:00, 36.71batch/s, loss_px_z: [0.8186], loss_mse_x: [2.8985], loss_py_z: [0.9406], loss_mse_y: [1.3756], loss_pv_z: [102.8914], loss_mse_v: [0.9616], loss_postrior_z: [101.1231]]  \n",
      "Epoch 77/100: 100%|██████████| 625/625 [00:17<00:00, 36.35batch/s, loss_px_z: [0.3832], loss_mse_x: [1.5600], loss_py_z: [0.8095], loss_mse_y: [1.1325], loss_pv_z: [100.9786], loss_mse_v: [0.9411], loss_postrior_z: [99.1561]]   \n",
      "Epoch 78/100: 100%|██████████| 625/625 [00:17<00:00, 36.61batch/s, loss_px_z: [0.5786], loss_mse_x: [1.2993], loss_py_z: [1.0151], loss_mse_y: [1.4207], loss_pv_z: [102.5722], loss_mse_v: [0.9597], loss_postrior_z: [101.5185]]  \n",
      "Epoch 79/100: 100%|██████████| 625/625 [00:17<00:00, 36.07batch/s, loss_px_z: [0.6154], loss_mse_x: [4.4279], loss_py_z: [0.7801], loss_mse_y: [0.9289], loss_pv_z: [99.2096], loss_mse_v: [0.9240], loss_postrior_z: [98.8278]]    \n",
      "Epoch 80/100: 100%|██████████| 625/625 [00:17<00:00, 36.40batch/s, loss_px_z: [0.4906], loss_mse_x: [0.9311], loss_py_z: [1.0194], loss_mse_y: [1.3942], loss_pv_z: [97.7877], loss_mse_v: [0.9111], loss_postrior_z: [96.3446]]    \n"
     ]
    },
    {
     "name": "stdout",
     "output_type": "stream",
     "text": [
      "Epoch [80/100]: MSE_x: 2.3948, MSE_y: 1.2321, MSE_v: 0.9663\n",
      "\n"
     ]
    },
    {
     "name": "stderr",
     "output_type": "stream",
     "text": [
      "Epoch 81/100: 100%|██████████| 625/625 [00:17<00:00, 36.32batch/s, loss_px_z: [0.2569], loss_mse_x: [0.8754], loss_py_z: [0.7526], loss_mse_y: [0.8708], loss_pv_z: [106.8888], loss_mse_v: [0.9958], loss_postrior_z: [104.9225]]  \n",
      "Epoch 82/100: 100%|██████████| 625/625 [00:16<00:00, 36.81batch/s, loss_px_z: [0.2433], loss_mse_x: [0.3094], loss_py_z: [0.7033], loss_mse_y: [0.7950], loss_pv_z: [97.2748], loss_mse_v: [0.9064], loss_postrior_z: [94.7370]]   \n",
      "Epoch 83/100: 100%|██████████| 625/625 [00:16<00:00, 36.89batch/s, loss_px_z: [0.4152], loss_mse_x: [0.3785], loss_py_z: [0.9458], loss_mse_y: [1.3324], loss_pv_z: [108.6188], loss_mse_v: [1.0188], loss_postrior_z: [107.4518]] \n",
      "Epoch 84/100: 100%|██████████| 625/625 [00:17<00:00, 36.66batch/s, loss_px_z: [0.3503], loss_mse_x: [0.8201], loss_py_z: [0.8926], loss_mse_y: [1.1490], loss_pv_z: [104.2746], loss_mse_v: [0.9762], loss_postrior_z: [102.8415]] \n",
      "Epoch 85/100: 100%|██████████| 625/625 [00:17<00:00, 36.72batch/s, loss_px_z: [0.4220], loss_mse_x: [1.4801], loss_py_z: [1.0330], loss_mse_y: [1.6034], loss_pv_z: [106.6080], loss_mse_v: [0.9998], loss_postrior_z: [105.0552]] \n",
      "Epoch 86/100: 100%|██████████| 625/625 [00:16<00:00, 36.91batch/s, loss_px_z: [0.4694], loss_mse_x: [6.1985], loss_py_z: [0.7356], loss_mse_y: [0.8248], loss_pv_z: [100.2188], loss_mse_v: [0.9338], loss_postrior_z: [97.9418]]   \n",
      "Epoch 87/100: 100%|██████████| 625/625 [00:16<00:00, 36.85batch/s, loss_px_z: [0.3292], loss_mse_x: [0.6569], loss_py_z: [1.0113], loss_mse_y: [1.9431], loss_pv_z: [106.5867], loss_mse_v: [0.9995], loss_postrior_z: [105.5458]]  \n",
      "Epoch 88/100: 100%|██████████| 625/625 [00:16<00:00, 36.80batch/s, loss_px_z: [0.3550], loss_mse_x: [0.4626], loss_py_z: [1.0303], loss_mse_y: [1.5094], loss_pv_z: [108.4437], loss_mse_v: [1.0162], loss_postrior_z: [107.1788]]  \n",
      "Epoch 89/100: 100%|██████████| 625/625 [00:16<00:00, 36.80batch/s, loss_px_z: [0.3315], loss_mse_x: [0.6017], loss_py_z: [0.6605], loss_mse_y: [0.7324], loss_pv_z: [104.0214], loss_mse_v: [0.9700], loss_postrior_z: [101.5246]]  \n",
      "Epoch 90/100: 100%|██████████| 625/625 [00:17<00:00, 36.59batch/s, loss_px_z: [0.4603], loss_mse_x: [10.2162], loss_py_z: [0.9069], loss_mse_y: [1.2040], loss_pv_z: [103.6781], loss_mse_v: [0.9698], loss_postrior_z: [103.6631]]\n"
     ]
    },
    {
     "name": "stdout",
     "output_type": "stream",
     "text": [
      "Epoch [90/100]: MSE_x: 2.4799, MSE_y: 1.2599, MSE_v: 0.9661\n",
      "\n"
     ]
    },
    {
     "name": "stderr",
     "output_type": "stream",
     "text": [
      "Epoch 91/100: 100%|██████████| 625/625 [00:17<00:00, 36.75batch/s, loss_px_z: [0.5477], loss_mse_x: [0.5707], loss_py_z: [0.7745], loss_mse_y: [0.9543], loss_pv_z: [109.4380], loss_mse_v: [1.0217], loss_postrior_z: [108.7424]] \n",
      "Epoch 92/100: 100%|██████████| 625/625 [00:17<00:00, 36.37batch/s, loss_px_z: [0.3619], loss_mse_x: [3.3491], loss_py_z: [1.1455], loss_mse_y: [1.8876], loss_pv_z: [113.6594], loss_mse_v: [1.0621], loss_postrior_z: [113.5553]] \n",
      "Epoch 93/100: 100%|██████████| 625/625 [00:16<00:00, 37.04batch/s, loss_px_z: [0.4648], loss_mse_x: [1.5755], loss_py_z: [0.8372], loss_mse_y: [1.1377], loss_pv_z: [99.5642], loss_mse_v: [0.9305], loss_postrior_z: [98.3627]]     \n",
      "Epoch 94/100: 100%|██████████| 625/625 [00:17<00:00, 36.54batch/s, loss_px_z: [1.0987], loss_mse_x: [1.2819], loss_py_z: [1.1014], loss_mse_y: [1.6232], loss_pv_z: [103.1765], loss_mse_v: [0.9650], loss_postrior_z: [102.7304]]  \n",
      "Epoch 95/100: 100%|██████████| 625/625 [00:17<00:00, 36.37batch/s, loss_px_z: [0.3843], loss_mse_x: [1.0352], loss_py_z: [0.9899], loss_mse_y: [1.5742], loss_pv_z: [100.6268], loss_mse_v: [0.9434], loss_postrior_z: [99.2453]]  \n",
      "Epoch 96/100: 100%|██████████| 625/625 [00:17<00:00, 36.41batch/s, loss_px_z: [0.1999], loss_mse_x: [0.4508], loss_py_z: [0.8064], loss_mse_y: [1.0777], loss_pv_z: [110.0216], loss_mse_v: [1.0310], loss_postrior_z: [108.6012]]   \n",
      "Epoch 97/100: 100%|██████████| 625/625 [00:17<00:00, 36.35batch/s, loss_px_z: [0.4824], loss_mse_x: [1.5243], loss_py_z: [0.9433], loss_mse_y: [1.3424], loss_pv_z: [102.7052], loss_mse_v: [0.9632], loss_postrior_z: [101.6525]]  \n",
      "Epoch 98/100: 100%|██████████| 625/625 [00:17<00:00, 36.69batch/s, loss_px_z: [0.5413], loss_mse_x: [2.2105], loss_py_z: [0.8606], loss_mse_y: [1.2179], loss_pv_z: [103.9459], loss_mse_v: [0.9739], loss_postrior_z: [104.8510]] \n",
      "Epoch 99/100: 100%|██████████| 625/625 [00:17<00:00, 36.50batch/s, loss_px_z: [0.5493], loss_mse_x: [1.4970], loss_py_z: [0.7055], loss_mse_y: [0.8195], loss_pv_z: [103.5861], loss_mse_v: [0.9682], loss_postrior_z: [102.3378]]  \n",
      "Epoch 100/100: 100%|██████████| 625/625 [00:17<00:00, 36.58batch/s, loss_px_z: [0.2578], loss_mse_x: [0.6818], loss_py_z: [0.8397], loss_mse_y: [1.1665], loss_pv_z: [106.6790], loss_mse_v: [1.0017], loss_postrior_z: [105.3335]] \n"
     ]
    },
    {
     "name": "stdout",
     "output_type": "stream",
     "text": [
      "Epoch [100/100]: MSE_x: 2.4033, MSE_y: 1.2315, MSE_v: 0.9661\n",
      "\n"
     ]
    }
   ],
   "source": [
    "model.fit(data=(x,y,v), epochs=100, epochs_per_eval=10, verbose=1)"
   ]
  },
  {
   "cell_type": "markdown",
   "id": "e1156ff9",
   "metadata": {},
   "source": [
    "### Make predictions using the trained CausalBGM model\n",
    "\n",
    "| Config Parameter        | Description |\n",
    "|-------------------------|-------------|\n",
    "| `data`                 | Tuple of data inputs `(x, y, v)`, *Required.* |\n",
    "| `alpha`                | Significance level for the posterior interval. *Default: 0.01.* |\n",
    "| `n_mcmc`               | Number of posterior MCMC samples to draw. *Default: 3000.* |\n",
    "| `x_values`             | Treatment values for dose-response function to be predicted. *Examples: 1.0 or [1.0,2.0]* |\n",
    "| `q_sd`                 | Standard deviation for the proposal distribution used in Metropolis-Hastings (MH) sampling. *Default: 1.0.* |\n",
    "| `sample_y`             | Whether to consider the variance function in the outcome generative model. *Default: True.* |\n",
    "| `bs`                   | Batch size for processing posterior samples to improve efficiency. *Default: 100.* |\n",
    "\n",
    "\n",
    "| Return     | Type          | Description                                                                                             | Shape       |\n",
    "|------------|---------------|---------------------------------------------------------------------------------------------------------|-------------|\n",
    "| `pre_adrf_mean`     | `np.ndarray`  | Point estimates of the Average Dose-Response Function.                                                  | `(len(x_values),)` |\n",
    "| `pre_adrf_PI`  | `np.ndarray`  | Posterior intervals for the ADRF, representing `[lower bound, upper bound]` | `(len(x_values), 2)` "
   ]
  },
  {
   "cell_type": "code",
   "execution_count": 7,
   "id": "d237fb5c",
   "metadata": {},
   "outputs": [
    {
     "name": "stdout",
     "output_type": "stream",
     "text": [
      "MCMC Latent Variable Sampling ...\n",
      "Final MCMC Acceptance Rate: 0.1035\n"
     ]
    }
   ],
   "source": [
    "pre_adrf_mean, pre_adrf_PI = model.predict(data=(x,y,v), alpha=0.01, n_mcmc=3000, x_values=np.linspace(0,3,20), q_sd=1.0)"
   ]
  },
  {
   "cell_type": "markdown",
   "id": "26a66ce0",
   "metadata": {},
   "source": [
    "<div class=\"alert alert-warning\">\n",
    "<b>Model Diagnosis</b>\n",
    "\n",
    "- An ideal MCMC acceptance rate should be between 10% to 30%.\n",
    "    \n",
    "- The random seed will affect the MCMC process with Bayesian neural networks. We recommand to set it to *None*.\n",
    "\n",
    "</div>"
   ]
  },
  {
   "cell_type": "markdown",
   "id": "4f037857",
   "metadata": {},
   "source": [
    "### Visualizating and evaluating the results\n",
    "\n",
    "Show the true average dose-response function (ADRF) and the predicted ADRF."
   ]
  },
  {
   "cell_type": "code",
   "execution_count": 8,
   "id": "44249fff",
   "metadata": {},
   "outputs": [
    {
     "name": "stdout",
     "output_type": "stream",
     "text": [
      "RMSE (Root Mean Squared Error): 0.0263\n",
      "MAPE (Mean Absolute Percentage Error): 0.0108\n"
     ]
    },
    {
     "data": {
      "image/png": "[encoded data removed]",
      "text/plain": [
       "<Figure size 720x432 with 1 Axes>"
      ]
     },
     "metadata": {
      "needs_background": "light"
     },
     "output_type": "display_data"
    }
   ],
   "source": [
    "import matplotlib.pyplot as plt\n",
    "from bayesgm.utils import get_ADRF\n",
    "\n",
    "x_values = np.linspace(0,3,20)  # treatment values\n",
    "true_adrf = get_ADRF(x_values = x_values,  dataset='Imbens') # true ADRF for Hirano and Imbens dataset\n",
    "#true_adrf = x_values + 2/(1+x_values)**3 # true ADRF for Hirano and Imbens dataset\n",
    "\n",
    "# Evaluate\n",
    "rmse = np.sqrt(np.mean((true_adrf-pre_adrf_mean)**2))\n",
    "mape = np.mean([abs((item[0]-item[1])/item[0]) for item in zip(true_adrf, pre_adrf_mean)])\n",
    "\n",
    "print(f\"RMSE (Root Mean Squared Error): {rmse:.4f}\")\n",
    "print(f\"MAPE (Mean Absolute Percentage Error): {mape:.4f}\")\n",
    "\n",
    "# Create the plot\n",
    "plt.figure(figsize=(10, 6))\n",
    "# Plot the ground truth curve\n",
    "plt.plot(x_values, true_adrf, label='True ADRF', color='blue', linestyle='--', linewidth=2)\n",
    "# Plot the predicted mean curve\n",
    "plt.plot(x_values, pre_adrf_mean, label='Predicted ADRF', color='red', linewidth=2)\n",
    "# Plot the posterior intervals\n",
    "plt.fill_between(x_values, pre_adrf_PI[:, 0], pre_adrf_PI[:, 1], color='red', alpha=0.4, label='Posterior Interval')\n",
    "\n",
    "# Add labels, legend, and title\n",
    "plt.xlabel('Treatment Value', fontsize=12)\n",
    "plt.ylabel('ADRF', fontsize=12)\n",
    "plt.title('True vs Predicted ADRF (RMSE=%.4f,MAPE=%.4f)'%(rmse, mape), fontsize=14)\n",
    "plt.legend(fontsize=12)\n",
    "plt.grid(True, linestyle='--', alpha=0.6)\n",
    "\n",
    "# Show the plot\n",
    "plt.show()"
   ]
  },
  {
   "cell_type": "markdown",
   "id": "ceb3b113",
   "metadata": {},
   "source": [
    "## Use CausalBGM Python API in binary treatment setting\n",
    "\n",
    "We will use `ACIC 2018` dataset for an example."
   ]
  },
  {
   "cell_type": "code",
   "execution_count": 2,
   "id": "073b1a2c",
   "metadata": {},
   "outputs": [
    {
     "name": "stdout",
     "output_type": "stream",
     "text": [
      "{'dataset': 'Semi_acic', 'output_dir': '.', 'save_res': True, 'save_model': True, 'binary_treatment': True, 'use_bnn': True, 'z_dims': [3, 6, 3, 6], 'v_dim': 177, 'lr_theta': 0.0001, 'lr_z': 0.0001, 'g_units': [64, 64, 64, 64, 64], 'f_units': [64, 32, 8], 'h_units': [64, 32, 8], 'kl_weight': 0.0001, 'lr': 0.0002, 'g_d_freq': 5, 'use_z_rec': True, 'e_units': [64, 64, 64, 64, 64], 'dz_units': [64, 32, 8]}\n"
     ]
    }
   ],
   "source": [
    "params = yaml.safe_load(open('../../src/configs/Semi_acic.yaml', 'r'))\n",
    "print(params)"
   ]
  },
  {
   "cell_type": "markdown",
   "id": "703c410d",
   "metadata": {},
   "source": [
    "### Instantiate a CausalBGM model"
   ]
  },
  {
   "cell_type": "code",
   "execution_count": 3,
   "id": "cb0f60a9",
   "metadata": {
    "collapsed": true
   },
   "outputs": [
    {
     "name": "stderr",
     "output_type": "stream",
     "text": [
      "2025-01-20 11:07:28.516352: I tensorflow/core/platform/cpu_feature_guard.cc:193] This TensorFlow binary is optimized with oneAPI Deep Neural Network Library (oneDNN) to use the following CPU instructions in performance-critical operations:  AVX2 FMA\n",
      "To enable them in other operations, rebuild TensorFlow with the appropriate compiler flags.\n",
      "2025-01-20 11:07:29.006555: I tensorflow/core/common_runtime/gpu/gpu_device.cc:1616] Created device /job:localhost/replica:0/task:0/device:GPU:0 with 43430 MB memory:  -> device: 0, name: NVIDIA A40, pci bus id: 0000:06:00.0, compute capability: 8.6\n",
      "/home/users/liuqiao/.local/lib/python3.9/site-packages/tensorflow_probability/python/layers/util.py:95: UserWarning: `layer.add_variable` is deprecated and will be removed in a future version. Please use the `layer.add_weight()` method instead.\n",
      "  loc = add_variable_fn(\n",
      "/home/users/liuqiao/.local/lib/python3.9/site-packages/tensorflow_probability/python/layers/util.py:105: UserWarning: `layer.add_variable` is deprecated and will be removed in a future version. Please use the `layer.add_weight()` method instead.\n",
      "  untransformed_scale = add_variable_fn(\n",
      "2025-01-20 11:07:30.078066: I tensorflow/stream_executor/cuda/cuda_blas.cc:1614] TensorFloat-32 will be used for the matrix multiplication. This will only be logged once.\n"
     ]
    }
   ],
   "source": [
    "model = bayesgm.models.CausalBGM(params=params,random_seed=None)"
   ]
  },
  {
   "cell_type": "markdown",
   "id": "745230e8",
   "metadata": {},
   "source": [
    "### Data preparation  \n",
    "\n",
    "The input data are organized in a triplet, which contains treatment (*X*), potential outcome (*Y*), and covariates (*V*)."
   ]
  },
  {
   "cell_type": "code",
   "execution_count": 4,
   "id": "4f73f046",
   "metadata": {},
   "outputs": [
    {
     "name": "stdout",
     "output_type": "stream",
     "text": [
      "(1000, 1) (1000, 1) (1000, 177)\n"
     ]
    }
   ],
   "source": [
    "#get the data from the ACIC 2018 competition dataset with a specified ufid.\n",
    "x,y,v = bayesgm.datasets.Semi_acic_sampler(path='../../data/ACIC_2018',ufid='629e3d2c63914e45b227cc913c09cebe').load_all()\n",
    "print(x.shape,y.shape,v.shape)"
   ]
  },
  {
   "cell_type": "markdown",
   "id": "2e04a5b0",
   "metadata": {},
   "source": [
    "### EGM initialization\n",
    "\n",
    "Perform Encoding Generative Modeling (EGM) initialization. Note that this step can be skipped but the performance can be generally improved through EGM initialization.\n",
    "\n",
    "| Config Parameter        | Description |\n",
    "|-------------------------|-------------|\n",
    "| `data`                  | Tuple of data inputs `(x, y, v)`, *Required.* |\n",
    "| `n_iter`                | Number of iterations for the initialization process. *Default: 30,000.* |\n",
    "| `batches_per_eval`      | Frequency of evaluations (e.g., every 500 batches). *Default: 500.* |\n",
    "| `verbose`               | Controls verbosity level, showing progress and evaluation metrics. *Default: 1.* |\n",
    "\n"
   ]
  },
  {
   "cell_type": "code",
   "execution_count": 5,
   "id": "30c4e42e",
   "metadata": {
    "collapsed": true
   },
   "outputs": [
    {
     "name": "stdout",
     "output_type": "stream",
     "text": [
      "EGM Initialization Starts ...\n"
     ]
    },
    {
     "name": "stderr",
     "output_type": "stream",
     "text": [
      "/home/users/liuqiao/.local/lib/python3.9/site-packages/tensorflow_probability/python/layers/util.py:95: UserWarning: `layer.add_variable` is deprecated and will be removed in a future version. Please use the `layer.add_weight()` method instead.\n",
      "  loc = add_variable_fn(\n",
      "/home/users/liuqiao/.local/lib/python3.9/site-packages/tensorflow_probability/python/layers/util.py:105: UserWarning: `layer.add_variable` is deprecated and will be removed in a future version. Please use the `layer.add_weight()` method instead.\n",
      "  untransformed_scale = add_variable_fn(\n"
     ]
    },
    {
     "name": "stdout",
     "output_type": "stream",
     "text": [
      "EGM Initialization Iter [0] : e_loss_adv [-0.0048], l2_loss_v [0.8659], l2_loss_z [1.0285], l2_loss_x [0.6900], l2_loss_y [0.2743], g_e_loss [2.8539], dz_loss [-0.2339], d_loss [1.9889]\n",
      "EGM Initialization Iter [500] : e_loss_adv [1.8128], l2_loss_v [1.2097], l2_loss_z [0.9711], l2_loss_x [0.6965], l2_loss_y [0.1035], g_e_loss [4.7936], dz_loss [-1.9445], d_loss [-1.4249]\n",
      "EGM Initialization Iter [1000] : e_loss_adv [-0.1602], l2_loss_v [1.6649], l2_loss_z [1.0866], l2_loss_x [0.6806], l2_loss_y [0.0947], g_e_loss [3.3665], dz_loss [-1.4054], d_loss [-1.2449]\n",
      "EGM Initialization Iter [1500] : e_loss_adv [-2.1816], l2_loss_v [0.4057], l2_loss_z [1.0311], l2_loss_x [0.6986], l2_loss_y [0.0549], g_e_loss [0.0088], dz_loss [-1.1276], d_loss [-0.9217]\n",
      "EGM Initialization Iter [2000] : e_loss_adv [-2.5009], l2_loss_v [0.6266], l2_loss_z [0.8493], l2_loss_x [0.6876], l2_loss_y [0.1104], g_e_loss [-0.2269], dz_loss [-0.9880], d_loss [-0.8353]\n",
      "EGM Initialization Iter [2500] : e_loss_adv [-2.3228], l2_loss_v [1.4581], l2_loss_z [0.9943], l2_loss_x [0.6922], l2_loss_y [0.1318], g_e_loss [0.9536], dz_loss [-1.1675], d_loss [-1.0129]\n",
      "EGM Initialization Iter [3000] : e_loss_adv [-1.2538], l2_loss_v [0.5946], l2_loss_z [0.8777], l2_loss_x [0.6804], l2_loss_y [0.1103], g_e_loss [1.0092], dz_loss [-0.6975], d_loss [-0.5634]\n",
      "EGM Initialization Iter [3500] : e_loss_adv [-0.8763], l2_loss_v [0.6303], l2_loss_z [0.8412], l2_loss_x [0.6858], l2_loss_y [0.0846], g_e_loss [1.3657], dz_loss [-1.4562], d_loss [-1.2863]\n",
      "EGM Initialization Iter [4000] : e_loss_adv [-1.3624], l2_loss_v [0.4773], l2_loss_z [0.9082], l2_loss_x [0.7035], l2_loss_y [0.0812], g_e_loss [0.8078], dz_loss [-0.6793], d_loss [-0.5435]\n",
      "EGM Initialization Iter [4500] : e_loss_adv [-2.3133], l2_loss_v [0.7684], l2_loss_z [0.9184], l2_loss_x [0.7137], l2_loss_y [0.1192], g_e_loss [0.2063], dz_loss [-1.0218], d_loss [-0.9385]\n",
      "EGM Initialization Iter [5000] : e_loss_adv [-2.3099], l2_loss_v [0.8946], l2_loss_z [0.9353], l2_loss_x [0.7294], l2_loss_y [0.1192], g_e_loss [0.3687], dz_loss [-0.7100], d_loss [-0.6103]\n",
      "EGM Initialization Iter [5500] : e_loss_adv [-1.4452], l2_loss_v [0.6445], l2_loss_z [0.8280], l2_loss_x [0.6635], l2_loss_y [0.0851], g_e_loss [0.7759], dz_loss [-0.4795], d_loss [-0.3903]\n",
      "EGM Initialization Iter [6000] : e_loss_adv [-1.6518], l2_loss_v [0.5267], l2_loss_z [0.8484], l2_loss_x [0.6916], l2_loss_y [0.0657], g_e_loss [0.4806], dz_loss [-0.0679], d_loss [0.0708]\n",
      "EGM Initialization Iter [6500] : e_loss_adv [-1.1589], l2_loss_v [0.4787], l2_loss_z [0.9403], l2_loss_x [0.6692], l2_loss_y [0.1061], g_e_loss [1.0353], dz_loss [-0.3928], d_loss [-0.2453]\n",
      "EGM Initialization Iter [7000] : e_loss_adv [-1.1904], l2_loss_v [0.6057], l2_loss_z [0.9302], l2_loss_x [0.6980], l2_loss_y [0.0990], g_e_loss [1.1424], dz_loss [-0.8914], d_loss [-0.7327]\n",
      "EGM Initialization Iter [7500] : e_loss_adv [-0.7631], l2_loss_v [0.5702], l2_loss_z [0.9339], l2_loss_x [0.6767], l2_loss_y [0.0880], g_e_loss [1.5057], dz_loss [-0.6911], d_loss [-0.5700]\n",
      "EGM Initialization Iter [8000] : e_loss_adv [-2.2476], l2_loss_v [0.4844], l2_loss_z [1.0180], l2_loss_x [0.6949], l2_loss_y [0.0833], g_e_loss [0.0331], dz_loss [-0.7775], d_loss [-0.7182]\n",
      "EGM Initialization Iter [8500] : e_loss_adv [-0.3591], l2_loss_v [0.5609], l2_loss_z [0.8856], l2_loss_x [0.6623], l2_loss_y [0.0609], g_e_loss [1.8107], dz_loss [-0.0446], d_loss [0.0273]\n",
      "EGM Initialization Iter [9000] : e_loss_adv [0.6071], l2_loss_v [0.5593], l2_loss_z [0.9556], l2_loss_x [0.7093], l2_loss_y [0.0620], g_e_loss [2.8932], dz_loss [-0.3649], d_loss [-0.2757]\n",
      "EGM Initialization Iter [9500] : e_loss_adv [-0.5575], l2_loss_v [0.5845], l2_loss_z [0.9408], l2_loss_x [0.7192], l2_loss_y [0.0889], g_e_loss [1.7759], dz_loss [-0.4091], d_loss [-0.3591]\n",
      "EGM Initialization Iter [10000] : e_loss_adv [-1.1281], l2_loss_v [0.5263], l2_loss_z [0.9266], l2_loss_x [0.7144], l2_loss_y [0.0507], g_e_loss [1.0898], dz_loss [-0.0166], d_loss [0.0866]\n",
      "EGM Initialization Iter [10500] : e_loss_adv [-0.1408], l2_loss_v [0.3866], l2_loss_z [0.8986], l2_loss_x [0.6806], l2_loss_y [0.0824], g_e_loss [1.9075], dz_loss [-0.1214], d_loss [-0.0723]\n",
      "EGM Initialization Iter [11000] : e_loss_adv [-0.3969], l2_loss_v [0.9047], l2_loss_z [0.8209], l2_loss_x [0.6645], l2_loss_y [0.1170], g_e_loss [2.1102], dz_loss [-0.4861], d_loss [-0.4317]\n",
      "EGM Initialization Iter [11500] : e_loss_adv [-0.2657], l2_loss_v [0.6886], l2_loss_z [0.9361], l2_loss_x [0.6658], l2_loss_y [0.0659], g_e_loss [2.0906], dz_loss [0.2313], d_loss [0.3243]\n",
      "EGM Initialization Iter [12000] : e_loss_adv [0.7424], l2_loss_v [0.4366], l2_loss_z [0.8486], l2_loss_x [0.6791], l2_loss_y [0.0881], g_e_loss [2.7949], dz_loss [-0.1343], d_loss [-0.0685]\n",
      "EGM Initialization Iter [12500] : e_loss_adv [1.3034], l2_loss_v [0.6138], l2_loss_z [0.9389], l2_loss_x [0.6539], l2_loss_y [0.1097], g_e_loss [3.6197], dz_loss [-0.4961], d_loss [-0.3665]\n",
      "EGM Initialization Iter [13000] : e_loss_adv [0.6101], l2_loss_v [0.5323], l2_loss_z [0.9391], l2_loss_x [0.6601], l2_loss_y [0.0520], g_e_loss [2.7936], dz_loss [0.2179], d_loss [0.3025]\n",
      "EGM Initialization Iter [13500] : e_loss_adv [-0.1563], l2_loss_v [0.6487], l2_loss_z [0.8687], l2_loss_x [0.6697], l2_loss_y [0.0628], g_e_loss [2.0936], dz_loss [-0.3739], d_loss [-0.2913]\n",
      "EGM Initialization Iter [14000] : e_loss_adv [0.5594], l2_loss_v [0.4849], l2_loss_z [0.7989], l2_loss_x [0.6947], l2_loss_y [0.0798], g_e_loss [2.6177], dz_loss [-0.2619], d_loss [-0.1944]\n",
      "EGM Initialization Iter [14500] : e_loss_adv [-0.3330], l2_loss_v [0.5578], l2_loss_z [0.9325], l2_loss_x [0.7514], l2_loss_y [0.0732], g_e_loss [1.9820], dz_loss [-0.1556], d_loss [-0.0916]\n",
      "EGM Initialization Iter [15000] : e_loss_adv [-0.3779], l2_loss_v [0.4807], l2_loss_z [0.7448], l2_loss_x [0.6142], l2_loss_y [0.1088], g_e_loss [1.5706], dz_loss [-0.4964], d_loss [-0.4682]\n",
      "EGM Initialization Iter [15500] : e_loss_adv [0.1539], l2_loss_v [0.7073], l2_loss_z [0.7453], l2_loss_x [0.6310], l2_loss_y [0.1163], g_e_loss [2.3538], dz_loss [-0.0233], d_loss [0.0097]\n",
      "EGM Initialization Iter [16000] : e_loss_adv [-0.2994], l2_loss_v [0.3159], l2_loss_z [0.8702], l2_loss_x [0.6586], l2_loss_y [0.0879], g_e_loss [1.6332], dz_loss [-0.1446], d_loss [-0.0511]\n",
      "EGM Initialization Iter [16500] : e_loss_adv [0.1068], l2_loss_v [0.4549], l2_loss_z [0.8689], l2_loss_x [0.6981], l2_loss_y [0.0561], g_e_loss [2.1847], dz_loss [-0.0290], d_loss [0.0269]\n",
      "EGM Initialization Iter [17000] : e_loss_adv [0.9061], l2_loss_v [0.7648], l2_loss_z [0.7963], l2_loss_x [0.6301], l2_loss_y [0.0809], g_e_loss [3.1782], dz_loss [0.0607], d_loss [0.1081]\n",
      "EGM Initialization Iter [17500] : e_loss_adv [-0.2733], l2_loss_v [0.4487], l2_loss_z [0.8949], l2_loss_x [0.6298], l2_loss_y [0.0692], g_e_loss [1.7693], dz_loss [-0.2577], d_loss [-0.1831]\n",
      "EGM Initialization Iter [18000] : e_loss_adv [1.1411], l2_loss_v [0.4377], l2_loss_z [0.8425], l2_loss_x [0.7106], l2_loss_y [0.0535], g_e_loss [3.1853], dz_loss [-0.4389], d_loss [-0.3818]\n",
      "EGM Initialization Iter [18500] : e_loss_adv [-0.1379], l2_loss_v [0.3344], l2_loss_z [0.7592], l2_loss_x [0.6674], l2_loss_y [0.0687], g_e_loss [1.6918], dz_loss [-0.3287], d_loss [-0.2913]\n",
      "EGM Initialization Iter [19000] : e_loss_adv [0.1420], l2_loss_v [0.4128], l2_loss_z [0.8789], l2_loss_x [0.6957], l2_loss_y [0.0741], g_e_loss [2.2034], dz_loss [-0.8572], d_loss [-0.6389]\n",
      "EGM Initialization Iter [19500] : e_loss_adv [-0.4506], l2_loss_v [0.5220], l2_loss_z [0.8263], l2_loss_x [0.6145], l2_loss_y [0.1205], g_e_loss [1.6326], dz_loss [-0.3803], d_loss [-0.2511]\n",
      "EGM Initialization Iter [20000] : e_loss_adv [0.8415], l2_loss_v [0.5549], l2_loss_z [0.7683], l2_loss_x [0.6602], l2_loss_y [0.0986], g_e_loss [2.9234], dz_loss [-0.6464], d_loss [-0.5694]\n",
      "EGM Initialization Iter [20500] : e_loss_adv [0.5410], l2_loss_v [0.4691], l2_loss_z [0.8188], l2_loss_x [0.6044], l2_loss_y [0.0750], g_e_loss [2.5083], dz_loss [-0.1130], d_loss [-0.0399]\n",
      "EGM Initialization Iter [21000] : e_loss_adv [-1.5420], l2_loss_v [0.3673], l2_loss_z [0.8427], l2_loss_x [0.7009], l2_loss_y [0.0610], g_e_loss [0.4298], dz_loss [-0.4702], d_loss [-0.3323]\n",
      "EGM Initialization Iter [21500] : e_loss_adv [0.9745], l2_loss_v [1.0109], l2_loss_z [0.8643], l2_loss_x [0.4829], l2_loss_y [0.0711], g_e_loss [3.4038], dz_loss [-0.4936], d_loss [-0.4702]\n"
     ]
    },
    {
     "name": "stdout",
     "output_type": "stream",
     "text": [
      "EGM Initialization Iter [22000] : e_loss_adv [0.7837], l2_loss_v [0.4243], l2_loss_z [0.7841], l2_loss_x [0.5790], l2_loss_y [0.0710], g_e_loss [2.6422], dz_loss [0.1568], d_loss [0.2571]\n",
      "EGM Initialization Iter [22500] : e_loss_adv [-1.2761], l2_loss_v [0.9710], l2_loss_z [0.8539], l2_loss_x [0.5253], l2_loss_y [0.0834], g_e_loss [1.1573], dz_loss [-0.3549], d_loss [-0.2831]\n",
      "EGM Initialization Iter [23000] : e_loss_adv [0.0581], l2_loss_v [1.0084], l2_loss_z [0.7387], l2_loss_x [0.5958], l2_loss_y [0.0616], g_e_loss [2.4626], dz_loss [0.0072], d_loss [0.1315]\n",
      "EGM Initialization Iter [23500] : e_loss_adv [0.2070], l2_loss_v [0.3864], l2_loss_z [0.6959], l2_loss_x [0.6486], l2_loss_y [0.0864], g_e_loss [2.0243], dz_loss [-0.0217], d_loss [0.0959]\n",
      "EGM Initialization Iter [24000] : e_loss_adv [-0.6877], l2_loss_v [0.5298], l2_loss_z [0.7314], l2_loss_x [0.5116], l2_loss_y [0.1222], g_e_loss [1.2073], dz_loss [-0.7778], d_loss [-0.7147]\n",
      "EGM Initialization Iter [24500] : e_loss_adv [0.6503], l2_loss_v [0.4701], l2_loss_z [0.7748], l2_loss_x [0.4499], l2_loss_y [0.0640], g_e_loss [2.4092], dz_loss [-0.1723], d_loss [-0.0687]\n",
      "EGM Initialization Iter [25000] : e_loss_adv [0.0632], l2_loss_v [0.4493], l2_loss_z [0.8478], l2_loss_x [0.4945], l2_loss_y [0.1135], g_e_loss [1.9683], dz_loss [-0.5228], d_loss [-0.4457]\n",
      "EGM Initialization Iter [25500] : e_loss_adv [-0.6956], l2_loss_v [0.4929], l2_loss_z [0.7522], l2_loss_x [0.4255], l2_loss_y [0.0576], g_e_loss [1.0326], dz_loss [-0.2905], d_loss [-0.2391]\n",
      "EGM Initialization Iter [26000] : e_loss_adv [0.3981], l2_loss_v [0.4571], l2_loss_z [0.8569], l2_loss_x [0.3268], l2_loss_y [0.0887], g_e_loss [2.1276], dz_loss [-0.1901], d_loss [-0.1394]\n",
      "EGM Initialization Iter [26500] : e_loss_adv [0.6191], l2_loss_v [0.3389], l2_loss_z [0.7413], l2_loss_x [0.5596], l2_loss_y [0.0830], g_e_loss [2.3418], dz_loss [-0.4682], d_loss [-0.4400]\n",
      "EGM Initialization Iter [27000] : e_loss_adv [-0.4002], l2_loss_v [0.5185], l2_loss_z [0.8707], l2_loss_x [0.3930], l2_loss_y [0.0678], g_e_loss [1.4497], dz_loss [-0.4610], d_loss [-0.3750]\n",
      "EGM Initialization Iter [27500] : e_loss_adv [-0.0528], l2_loss_v [0.5399], l2_loss_z [0.9051], l2_loss_x [0.3364], l2_loss_y [0.0622], g_e_loss [1.7910], dz_loss [-0.1325], d_loss [-0.0699]\n",
      "EGM Initialization Iter [28000] : e_loss_adv [0.1628], l2_loss_v [0.5710], l2_loss_z [0.8338], l2_loss_x [0.5616], l2_loss_y [0.0646], g_e_loss [2.1938], dz_loss [-0.5246], d_loss [-0.2834]\n",
      "EGM Initialization Iter [28500] : e_loss_adv [-0.5642], l2_loss_v [0.5512], l2_loss_z [0.7536], l2_loss_x [0.4805], l2_loss_y [0.0828], g_e_loss [1.3040], dz_loss [0.0943], d_loss [0.1904]\n",
      "EGM Initialization Iter [29000] : e_loss_adv [-0.4198], l2_loss_v [0.5273], l2_loss_z [0.7851], l2_loss_x [0.5006], l2_loss_y [0.0964], g_e_loss [1.4896], dz_loss [-0.0145], d_loss [0.0281]\n",
      "EGM Initialization Iter [29500] : e_loss_adv [-1.0304], l2_loss_v [0.4551], l2_loss_z [0.7157], l2_loss_x [0.3107], l2_loss_y [0.0722], g_e_loss [0.5232], dz_loss [-0.2949], d_loss [-0.2576]\n",
      "EGM Initialization Iter [30000] : e_loss_adv [-0.9045], l2_loss_v [0.5176], l2_loss_z [0.7965], l2_loss_x [0.1888], l2_loss_y [0.0663], g_e_loss [0.6648], dz_loss [-0.0430], d_loss [-0.0070]\n",
      "EGM Initialization Ends.\n"
     ]
    }
   ],
   "source": [
    "model.egm_init(data=(x,y,v), n_iter=30000, batches_per_eval=500, verbose=1)"
   ]
  },
  {
   "cell_type": "markdown",
   "id": "fb6b394b",
   "metadata": {},
   "source": [
    "### Train the model with an iterative updating algorithm\n",
    "\n",
    "| Config Parameter        | Description |\n",
    "|-------------------------|-------------|\n",
    "| `batch_size`            | Batch size for training. *Default: 32.* |\n",
    "| `epochs`                | Number of epochs for training. *Default: 100.* |\n",
    "| `epochs_per_eval`       | Frequency of evaluations during training (e.g., every 5 epochs). *Default: 5.* |\n",
    "| `startoff`              | Starting epoch for evaluation. *Default: 0.* |\n",
    "| `verbose`               | Controls verbosity level, showing training progress and metrics. *Default: 1.* |\n",
    "| `save_format`           | Format for saving results. *Default: 'txt'.* |\n"
   ]
  },
  {
   "cell_type": "code",
   "execution_count": 6,
   "id": "10de4f29",
   "metadata": {
    "collapsed": true
   },
   "outputs": [
    {
     "name": "stdout",
     "output_type": "stream",
     "text": [
      "Initialize latent variables Z with e(V)...\n",
      "Iterative Updating Starts ...\n"
     ]
    },
    {
     "name": "stderr",
     "output_type": "stream",
     "text": [
      "Epoch 0/100: 100%|██████████| 31/31 [00:10<00:00,  2.95batch/s, loss_px_z: [0.9565], loss_mse_x: [0.2663], loss_py_z: [0.6540], loss_mse_y: [0.1128], loss_pv_z: [47.4268], loss_mse_v: [0.5593], loss_postrior_z: [71.9446]]\n"
     ]
    },
    {
     "name": "stdout",
     "output_type": "stream",
     "text": [
      "Epoch [0/100]: MSE_x: 0.1086, MSE_y: 0.0808, MSE_v: 0.4963\n",
      "\n",
      "Saving checkpoint for epoch 0 at ./checkpoints/Semi_acic/20250120_110730/ckpt-0\n"
     ]
    },
    {
     "name": "stderr",
     "output_type": "stream",
     "text": [
      "Epoch 1/100: 100%|██████████| 31/31 [00:00<00:00, 38.59batch/s, loss_px_z: [0.9406], loss_mse_x: [0.2511], loss_py_z: [0.6300], loss_mse_y: [0.0842], loss_pv_z: [30.4184], loss_mse_v: [0.4252], loss_postrior_z: [30.5838]]\n",
      "Epoch 2/100: 100%|██████████| 31/31 [00:00<00:00, 38.67batch/s, loss_px_z: [0.9030], loss_mse_x: [0.2141], loss_py_z: [0.6197], loss_mse_y: [0.0731], loss_pv_z: [59.9288], loss_mse_v: [0.6629], loss_postrior_z: [60.7868]]\n",
      "Epoch 3/100: 100%|██████████| 31/31 [00:00<00:00, 38.87batch/s, loss_px_z: [0.8395], loss_mse_x: [0.1512], loss_py_z: [0.6097], loss_mse_y: [0.0625], loss_pv_z: [35.5461], loss_mse_v: [0.4805], loss_postrior_z: [37.8932]]\n",
      "Epoch 4/100: 100%|██████████| 31/31 [00:00<00:00, 37.81batch/s, loss_px_z: [0.9721], loss_mse_x: [0.2844], loss_py_z: [0.6106], loss_mse_y: [0.0678], loss_pv_z: [19.4949], loss_mse_v: [0.3504], loss_postrior_z: [21.6702]]\n",
      "Epoch 5/100: 100%|██████████| 31/31 [00:00<00:00, 38.39batch/s, loss_px_z: [0.9615], loss_mse_x: [0.2744], loss_py_z: [0.6085], loss_mse_y: [0.0688], loss_pv_z: [45.8676], loss_mse_v: [0.5538], loss_postrior_z: [42.2061]]\n",
      "Epoch 6/100: 100%|██████████| 31/31 [00:00<00:00, 38.69batch/s, loss_px_z: [1.0109], loss_mse_x: [0.3245], loss_py_z: [0.6260], loss_mse_y: [0.0960], loss_pv_z: [61.8862], loss_mse_v: [0.6940], loss_postrior_z: [53.2616]]\n",
      "Epoch 7/100: 100%|██████████| 31/31 [00:00<00:00, 39.52batch/s, loss_px_z: [1.0446], loss_mse_x: [0.3587], loss_py_z: [0.6056], loss_mse_y: [0.0731], loss_pv_z: [27.7069], loss_mse_v: [0.4219], loss_postrior_z: [27.9548]]\n",
      "Epoch 8/100: 100%|██████████| 31/31 [00:00<00:00, 39.77batch/s, loss_px_z: [1.1107], loss_mse_x: [0.4254], loss_py_z: [0.5925], loss_mse_y: [0.0587], loss_pv_z: [27.5714], loss_mse_v: [0.4204], loss_postrior_z: [27.6251]]\n",
      "Epoch 9/100: 100%|██████████| 31/31 [00:00<00:00, 38.86batch/s, loss_px_z: [0.9040], loss_mse_x: [0.2194], loss_py_z: [0.6073], loss_mse_y: [0.0836], loss_pv_z: [17.3933], loss_mse_v: [0.3392], loss_postrior_z: [17.3676]]\n",
      "Epoch 10/100: 100%|██████████| 31/31 [00:00<00:00, 38.33batch/s, loss_px_z: [1.0827], loss_mse_x: [0.3986], loss_py_z: [0.5873], loss_mse_y: [0.0606], loss_pv_z: [19.5254], loss_mse_v: [0.3610], loss_postrior_z: [20.2223]]\n"
     ]
    },
    {
     "name": "stdout",
     "output_type": "stream",
     "text": [
      "Epoch [10/100]: MSE_x: 0.1067, MSE_y: 0.0803, MSE_v: 0.4858\n",
      "\n",
      "Saving checkpoint for epoch 10 at ./checkpoints/Semi_acic/20250120_110730/ckpt-10\n"
     ]
    },
    {
     "name": "stderr",
     "output_type": "stream",
     "text": [
      "Epoch 11/100: 100%|██████████| 31/31 [00:00<00:00, 37.81batch/s, loss_px_z: [0.9274], loss_mse_x: [0.2439], loss_py_z: [0.6253], loss_mse_y: [0.1145], loss_pv_z: [18.0276], loss_mse_v: [0.3510], loss_postrior_z: [19.1510]]\n",
      "Epoch 12/100: 100%|██████████| 31/31 [00:00<00:00, 38.31batch/s, loss_px_z: [0.8903], loss_mse_x: [0.2075], loss_py_z: [0.5862], loss_mse_y: [0.0657], loss_pv_z: [55.8623], loss_mse_v: [0.6772], loss_postrior_z: [55.4373]]\n",
      "Epoch 13/100: 100%|██████████| 31/31 [00:00<00:00, 37.57batch/s, loss_px_z: [1.0753], loss_mse_x: [0.3931], loss_py_z: [0.5924], loss_mse_y: [0.0806], loss_pv_z: [53.0960], loss_mse_v: [0.6620], loss_postrior_z: [47.6561]]\n",
      "Epoch 14/100: 100%|██████████| 31/31 [00:00<00:00, 37.69batch/s, loss_px_z: [0.9455], loss_mse_x: [0.2638], loss_py_z: [0.5810], loss_mse_y: [0.0725], loss_pv_z: [49.1586], loss_mse_v: [0.6150], loss_postrior_z: [45.4501]]\n",
      "Epoch 15/100: 100%|██████████| 31/31 [00:00<00:00, 38.82batch/s, loss_px_z: [1.0905], loss_mse_x: [0.4095], loss_py_z: [0.5616], loss_mse_y: [0.0521], loss_pv_z: [17.5362], loss_mse_v: [0.3532], loss_postrior_z: [18.4800]]\n",
      "Epoch 16/100: 100%|██████████| 31/31 [00:00<00:00, 37.36batch/s, loss_px_z: [1.1347], loss_mse_x: [0.4542], loss_py_z: [0.5768], loss_mse_y: [0.0776], loss_pv_z: [48.1153], loss_mse_v: [0.6093], loss_postrior_z: [56.3887]]\n",
      "Epoch 17/100: 100%|██████████| 31/31 [00:00<00:00, 38.40batch/s, loss_px_z: [0.9119], loss_mse_x: [0.2321], loss_py_z: [0.6109], loss_mse_y: [0.1265], loss_pv_z: [31.6687], loss_mse_v: [0.4472], loss_postrior_z: [32.4655]]\n",
      "Epoch 18/100: 100%|██████████| 31/31 [00:00<00:00, 38.57batch/s, loss_px_z: [1.0161], loss_mse_x: [0.3369], loss_py_z: [0.5911], loss_mse_y: [0.1103], loss_pv_z: [38.8289], loss_mse_v: [0.5247], loss_postrior_z: [39.5317]]\n",
      "Epoch 19/100: 100%|██████████| 31/31 [00:00<00:00, 39.11batch/s, loss_px_z: [0.9739], loss_mse_x: [0.2952], loss_py_z: [0.5998], loss_mse_y: [0.1284], loss_pv_z: [15.7594], loss_mse_v: [0.3507], loss_postrior_z: [16.4483]]\n",
      "Epoch 20/100: 100%|██████████| 31/31 [00:00<00:00, 38.22batch/s, loss_px_z: [1.0596], loss_mse_x: [0.3816], loss_py_z: [0.5646], loss_mse_y: [0.0908], loss_pv_z: [6.5389], loss_mse_v: [0.2932], loss_postrior_z: [6.5450]]  \n"
     ]
    },
    {
     "name": "stdout",
     "output_type": "stream",
     "text": [
      "Epoch [20/100]: MSE_x: 0.1049, MSE_y: 0.0819, MSE_v: 0.4817\n",
      "\n"
     ]
    },
    {
     "name": "stderr",
     "output_type": "stream",
     "text": [
      "Epoch 21/100: 100%|██████████| 31/31 [00:00<00:00, 38.22batch/s, loss_px_z: [1.1257], loss_mse_x: [0.4482], loss_py_z: [0.5531], loss_mse_y: [0.0877], loss_pv_z: [23.4210], loss_mse_v: [0.4593], loss_postrior_z: [22.3442]]\n",
      "Epoch 22/100: 100%|██████████| 31/31 [00:00<00:00, 38.16batch/s, loss_px_z: [0.9683], loss_mse_x: [0.2915], loss_py_z: [0.5339], loss_mse_y: [0.0702], loss_pv_z: [11.6025], loss_mse_v: [0.3779], loss_postrior_z: [13.1489]]\n",
      "Epoch 23/100: 100%|██████████| 31/31 [00:00<00:00, 38.36batch/s, loss_px_z: [0.9649], loss_mse_x: [0.2886], loss_py_z: [0.5554], loss_mse_y: [0.1061], loss_pv_z: [14.8812], loss_mse_v: [0.3604], loss_postrior_z: [16.2671]]\n",
      "Epoch 24/100: 100%|██████████| 31/31 [00:00<00:00, 38.13batch/s, loss_px_z: [0.9264], loss_mse_x: [0.2508], loss_py_z: [0.5361], loss_mse_y: [0.1049], loss_pv_z: [18.4663], loss_mse_v: [0.3843], loss_postrior_z: [18.1645]]\n",
      "Epoch 25/100: 100%|██████████| 31/31 [00:00<00:00, 39.28batch/s, loss_px_z: [1.0087], loss_mse_x: [0.3336], loss_py_z: [0.5175], loss_mse_y: [0.0866], loss_pv_z: [27.7744], loss_mse_v: [0.5128], loss_postrior_z: [27.2959]]\n",
      "Epoch 26/100: 100%|██████████| 31/31 [00:00<00:00, 38.76batch/s, loss_px_z: [1.0372], loss_mse_x: [0.3627], loss_py_z: [0.4747], loss_mse_y: [0.0474], loss_pv_z: [31.5560], loss_mse_v: [0.5340], loss_postrior_z: [32.7903]]\n",
      "Epoch 27/100: 100%|██████████| 31/31 [00:00<00:00, 38.34batch/s, loss_px_z: [1.0463], loss_mse_x: [0.3725], loss_py_z: [0.5144], loss_mse_y: [0.1131], loss_pv_z: [26.6870], loss_mse_v: [0.4501], loss_postrior_z: [27.7999]]\n",
      "Epoch 28/100: 100%|██████████| 31/31 [00:00<00:00, 38.89batch/s, loss_px_z: [0.8513], loss_mse_x: [0.1781], loss_py_z: [0.4597], loss_mse_y: [0.0674], loss_pv_z: [13.1410], loss_mse_v: [0.3610], loss_postrior_z: [13.5175]]\n",
      "Epoch 29/100: 100%|██████████| 31/31 [00:00<00:00, 39.15batch/s, loss_px_z: [1.1697], loss_mse_x: [0.4970], loss_py_z: [0.4901], loss_mse_y: [0.1123], loss_pv_z: [26.7229], loss_mse_v: [0.4877], loss_postrior_z: [28.3829]]\n",
      "Epoch 30/100: 100%|██████████| 31/31 [00:00<00:00, 39.10batch/s, loss_px_z: [0.9159], loss_mse_x: [0.2438], loss_py_z: [0.4214], loss_mse_y: [0.0742], loss_pv_z: [27.0957], loss_mse_v: [0.5506], loss_postrior_z: [30.3566]]\n"
     ]
    },
    {
     "name": "stdout",
     "output_type": "stream",
     "text": [
      "Epoch [30/100]: MSE_x: 0.1059, MSE_y: 0.0901, MSE_v: 0.4801\n",
      "\n"
     ]
    },
    {
     "name": "stderr",
     "output_type": "stream",
     "text": [
      "Epoch 31/100: 100%|██████████| 31/31 [00:00<00:00, 38.78batch/s, loss_px_z: [0.9839], loss_mse_x: [0.3124], loss_py_z: [0.4448], loss_mse_y: [0.1049], loss_pv_z: [6.1247], loss_mse_v: [0.3294], loss_postrior_z: [7.7118]]  \n",
      "Epoch 32/100: 100%|██████████| 31/31 [00:00<00:00, 38.33batch/s, loss_px_z: [0.9751], loss_mse_x: [0.3042], loss_py_z: [0.4473], loss_mse_y: [0.1279], loss_pv_z: [23.9391], loss_mse_v: [0.5725], loss_postrior_z: [23.2264]]\n",
      "Epoch 33/100: 100%|██████████| 31/31 [00:00<00:00, 39.26batch/s, loss_px_z: [0.9438], loss_mse_x: [0.2735], loss_py_z: [0.3856], loss_mse_y: [0.0898], loss_pv_z: [4.8462], loss_mse_v: [0.3312], loss_postrior_z: [3.7665]]  \n",
      "Epoch 34/100: 100%|██████████| 31/31 [00:00<00:00, 38.49batch/s, loss_px_z: [0.8579], loss_mse_x: [0.1882], loss_py_z: [0.3960], loss_mse_y: [0.1193], loss_pv_z: [50.2584], loss_mse_v: [0.7566], loss_postrior_z: [45.8737]]\n",
      "Epoch 35/100: 100%|██████████| 31/31 [00:00<00:00, 38.98batch/s, loss_px_z: [0.9383], loss_mse_x: [0.2692], loss_py_z: [0.3523], loss_mse_y: [0.1091], loss_pv_z: [13.6053], loss_mse_v: [0.4321], loss_postrior_z: [15.1151]]\n",
      "Epoch 36/100: 100%|██████████| 31/31 [00:00<00:00, 37.61batch/s, loss_px_z: [1.0509], loss_mse_x: [0.3824], loss_py_z: [0.2497], loss_mse_y: [0.0704], loss_pv_z: [3.9357], loss_mse_v: [0.3468], loss_postrior_z: [4.7529]]  \n",
      "Epoch 37/100: 100%|██████████| 31/31 [00:00<00:00, 38.18batch/s, loss_px_z: [0.8428], loss_mse_x: [0.1749], loss_py_z: [0.2385], loss_mse_y: [0.0795], loss_pv_z: [14.1344], loss_mse_v: [0.4508], loss_postrior_z: [13.5080]]\n",
      "Epoch 38/100: 100%|██████████| 31/31 [00:00<00:00, 37.60batch/s, loss_px_z: [0.9034], loss_mse_x: [0.2361], loss_py_z: [0.2730], loss_mse_y: [0.1082], loss_pv_z: [27.8985], loss_mse_v: [0.9165], loss_postrior_z: [28.1104]]\n",
      "Epoch 39/100: 100%|██████████| 31/31 [00:00<00:00, 37.81batch/s, loss_px_z: [1.0961], loss_mse_x: [0.4293], loss_py_z: [0.1553], loss_mse_y: [0.0724], loss_pv_z: [4.1364], loss_mse_v: [0.3296], loss_postrior_z: [3.1136]]  \n",
      "Epoch 40/100: 100%|██████████| 31/31 [00:00<00:00, 38.62batch/s, loss_px_z: [1.0522], loss_mse_x: [0.3860], loss_py_z: [0.3248], loss_mse_y: [0.1322], loss_pv_z: [25.5094], loss_mse_v: [0.5384], loss_postrior_z: [32.9880]]\n"
     ]
    },
    {
     "name": "stdout",
     "output_type": "stream",
     "text": [
      "Epoch [40/100]: MSE_x: 0.1058, MSE_y: 0.0946, MSE_v: 0.4788\n",
      "\n"
     ]
    },
    {
     "name": "stderr",
     "output_type": "stream",
     "text": [
      "Epoch 41/100: 100%|██████████| 31/31 [00:00<00:00, 38.06batch/s, loss_px_z: [0.9446], loss_mse_x: [0.2790], loss_py_z: [0.1976], loss_mse_y: [0.1031], loss_pv_z: [6.8297], loss_mse_v: [0.3421], loss_postrior_z: [6.6726]]  \n",
      "Epoch 42/100: 100%|██████████| 31/31 [00:00<00:00, 37.74batch/s, loss_px_z: [1.0216], loss_mse_x: [0.3566], loss_py_z: [0.0856], loss_mse_y: [0.0743], loss_pv_z: [27.3999], loss_mse_v: [0.4606], loss_postrior_z: [28.2353]]\n",
      "Epoch 43/100: 100%|██████████| 31/31 [00:00<00:00, 38.91batch/s, loss_px_z: [1.0029], loss_mse_x: [0.3385], loss_py_z: [0.1876], loss_mse_y: [0.1139], loss_pv_z: [8.6644], loss_mse_v: [0.3544], loss_postrior_z: [9.8754]]  \n",
      "Epoch 44/100: 100%|██████████| 31/31 [00:00<00:00, 39.33batch/s, loss_px_z: [1.0569], loss_mse_x: [0.3930], loss_py_z: [0.0320], loss_mse_y: [0.0645], loss_pv_z: [27.5026], loss_mse_v: [0.5321], loss_postrior_z: [29.8401]] \n",
      "Epoch 45/100: 100%|██████████| 31/31 [00:00<00:00, 38.82batch/s, loss_px_z: [1.1123], loss_mse_x: [0.4491], loss_py_z: [0.1424], loss_mse_y: [0.0854], loss_pv_z: [25.6083], loss_mse_v: [0.4598], loss_postrior_z: [26.0449]] \n",
      "Epoch 46/100: 100%|██████████| 31/31 [00:00<00:00, 37.96batch/s, loss_px_z: [0.8313], loss_mse_x: [0.1686], loss_py_z: [-0.0364], loss_mse_y: [0.0604], loss_pv_z: [0.3876], loss_mse_v: [0.3867], loss_postrior_z: [3.4797]] \n",
      "Epoch 47/100: 100%|██████████| 31/31 [00:00<00:00, 37.36batch/s, loss_px_z: [1.0392], loss_mse_x: [0.3771], loss_py_z: [0.0136], loss_mse_y: [0.0641], loss_pv_z: [13.2878], loss_mse_v: [0.4343], loss_postrior_z: [12.4598]]\n",
      "Epoch 48/100: 100%|██████████| 31/31 [00:00<00:00, 37.91batch/s, loss_px_z: [1.0747], loss_mse_x: [0.4131], loss_py_z: [0.4025], loss_mse_y: [0.1370], loss_pv_z: [-6.6497], loss_mse_v: [0.3019], loss_postrior_z: [-7.9984]] \n",
      "Epoch 49/100: 100%|██████████| 31/31 [00:00<00:00, 38.88batch/s, loss_px_z: [0.9318], loss_mse_x: [0.2709], loss_py_z: [0.0909], loss_mse_y: [0.0845], loss_pv_z: [16.0961], loss_mse_v: [0.5027], loss_postrior_z: [17.6421]] \n",
      "Epoch 50/100: 100%|██████████| 31/31 [00:00<00:00, 38.59batch/s, loss_px_z: [0.9679], loss_mse_x: [0.3076], loss_py_z: [0.1408], loss_mse_y: [0.1025], loss_pv_z: [-8.7631], loss_mse_v: [0.2855], loss_postrior_z: [-8.4878]] \n"
     ]
    },
    {
     "name": "stdout",
     "output_type": "stream",
     "text": [
      "Epoch [50/100]: MSE_x: 0.1048, MSE_y: 0.0917, MSE_v: 0.4704\n",
      "\n"
     ]
    },
    {
     "name": "stderr",
     "output_type": "stream",
     "text": [
      "Epoch 51/100: 100%|██████████| 31/31 [00:00<00:00, 38.19batch/s, loss_px_z: [1.0449], loss_mse_x: [0.3851], loss_py_z: [-0.0010], loss_mse_y: [0.0740], loss_pv_z: [4.0644], loss_mse_v: [0.3408], loss_postrior_z: [4.8266]]  \n",
      "Epoch 52/100: 100%|██████████| 31/31 [00:00<00:00, 38.70batch/s, loss_px_z: [1.0325], loss_mse_x: [0.3732], loss_py_z: [0.1196], loss_mse_y: [0.1033], loss_pv_z: [28.7811], loss_mse_v: [0.5386], loss_postrior_z: [31.3258]] \n",
      "Epoch 53/100: 100%|██████████| 31/31 [00:00<00:00, 38.19batch/s, loss_px_z: [0.9368], loss_mse_x: [0.2782], loss_py_z: [-0.0184], loss_mse_y: [0.0655], loss_pv_z: [15.1221], loss_mse_v: [0.4502], loss_postrior_z: [18.0297]]\n",
      "Epoch 54/100: 100%|██████████| 31/31 [00:00<00:00, 38.74batch/s, loss_px_z: [1.0402], loss_mse_x: [0.3821], loss_py_z: [0.3342], loss_mse_y: [0.1672], loss_pv_z: [38.2912], loss_mse_v: [0.5988], loss_postrior_z: [37.7751]] \n",
      "Epoch 55/100: 100%|██████████| 31/31 [00:00<00:00, 38.56batch/s, loss_px_z: [1.0840], loss_mse_x: [0.4266], loss_py_z: [0.0817], loss_mse_y: [0.0986], loss_pv_z: [3.7234], loss_mse_v: [0.4569], loss_postrior_z: [6.0951]]   \n",
      "Epoch 56/100: 100%|██████████| 31/31 [00:00<00:00, 39.71batch/s, loss_px_z: [1.1286], loss_mse_x: [0.4717], loss_py_z: [0.0516], loss_mse_y: [0.0814], loss_pv_z: [-0.3688], loss_mse_v: [0.3686], loss_postrior_z: [3.8129]]  \n",
      "Epoch 57/100: 100%|██████████| 31/31 [00:00<00:00, 39.71batch/s, loss_px_z: [0.9250], loss_mse_x: [0.2687], loss_py_z: [0.2156], loss_mse_y: [0.1439], loss_pv_z: [11.4717], loss_mse_v: [0.3794], loss_postrior_z: [11.4630]] \n",
      "Epoch 58/100: 100%|██████████| 31/31 [00:00<00:00, 39.73batch/s, loss_px_z: [1.0088], loss_mse_x: [0.3531], loss_py_z: [0.0907], loss_mse_y: [0.0973], loss_pv_z: [19.8960], loss_mse_v: [0.5020], loss_postrior_z: [20.9359]]  \n",
      "Epoch 59/100: 100%|██████████| 31/31 [00:00<00:00, 39.45batch/s, loss_px_z: [1.1459], loss_mse_x: [0.4907], loss_py_z: [0.2321], loss_mse_y: [0.1399], loss_pv_z: [-4.2169], loss_mse_v: [0.3352], loss_postrior_z: [-5.6354]] \n",
      "Epoch 60/100: 100%|██████████| 31/31 [00:00<00:00, 40.28batch/s, loss_px_z: [1.0632], loss_mse_x: [0.4086], loss_py_z: [0.0418], loss_mse_y: [0.0969], loss_pv_z: [15.1453], loss_mse_v: [0.4034], loss_postrior_z: [17.7017]] \n"
     ]
    },
    {
     "name": "stdout",
     "output_type": "stream",
     "text": [
      "Epoch [60/100]: MSE_x: 0.1047, MSE_y: 0.1128, MSE_v: 0.4751\n",
      "\n"
     ]
    },
    {
     "name": "stderr",
     "output_type": "stream",
     "text": [
      "Epoch 61/100: 100%|██████████| 31/31 [00:00<00:00, 39.26batch/s, loss_px_z: [0.8545], loss_mse_x: [0.2005], loss_py_z: [0.3392], loss_mse_y: [0.1354], loss_pv_z: [33.0587], loss_mse_v: [0.4861], loss_postrior_z: [30.5779]]  \n",
      "Epoch 62/100: 100%|██████████| 31/31 [00:00<00:00, 39.25batch/s, loss_px_z: [0.9278], loss_mse_x: [0.2743], loss_py_z: [-0.0064], loss_mse_y: [0.0891], loss_pv_z: [1.7107], loss_mse_v: [0.3603], loss_postrior_z: [2.9738]]  \n",
      "Epoch 63/100: 100%|██████████| 31/31 [00:00<00:00, 39.32batch/s, loss_px_z: [1.0100], loss_mse_x: [0.3571], loss_py_z: [0.1599], loss_mse_y: [0.1137], loss_pv_z: [19.5782], loss_mse_v: [0.4179], loss_postrior_z: [19.0636]] \n",
      "Epoch 64/100: 100%|██████████| 31/31 [00:00<00:00, 39.61batch/s, loss_px_z: [1.1217], loss_mse_x: [0.4694], loss_py_z: [-0.1387], loss_mse_y: [0.0444], loss_pv_z: [6.5904], loss_mse_v: [0.3891], loss_postrior_z: [3.2315]]   \n",
      "Epoch 65/100: 100%|██████████| 31/31 [00:00<00:00, 41.31batch/s, loss_px_z: [1.0310], loss_mse_x: [0.3793], loss_py_z: [0.0075], loss_mse_y: [0.0831], loss_pv_z: [46.3428], loss_mse_v: [0.5725], loss_postrior_z: [48.9793]]  \n",
      "Epoch 66/100: 100%|██████████| 31/31 [00:00<00:00, 39.15batch/s, loss_px_z: [0.8777], loss_mse_x: [0.2265], loss_py_z: [0.2078], loss_mse_y: [0.1320], loss_pv_z: [22.9951], loss_mse_v: [0.4608], loss_postrior_z: [23.8209]]  \n",
      "Epoch 67/100: 100%|██████████| 31/31 [00:00<00:00, 39.95batch/s, loss_px_z: [0.8953], loss_mse_x: [0.2447], loss_py_z: [0.2415], loss_mse_y: [0.1455], loss_pv_z: [16.5293], loss_mse_v: [0.5462], loss_postrior_z: [16.2034]] \n",
      "Epoch 68/100: 100%|██████████| 31/31 [00:00<00:00, 39.75batch/s, loss_px_z: [1.1958], loss_mse_x: [0.5458], loss_py_z: [0.0030], loss_mse_y: [0.0833], loss_pv_z: [29.3206], loss_mse_v: [0.6670], loss_postrior_z: [31.4671]] \n",
      "Epoch 69/100: 100%|██████████| 31/31 [00:00<00:00, 40.05batch/s, loss_px_z: [1.0498], loss_mse_x: [0.4003], loss_py_z: [-0.0885], loss_mse_y: [0.0653], loss_pv_z: [39.7293], loss_mse_v: [0.6457], loss_postrior_z: [36.3633]]\n",
      "Epoch 70/100: 100%|██████████| 31/31 [00:00<00:00, 39.71batch/s, loss_px_z: [0.9547], loss_mse_x: [0.3057], loss_py_z: [0.1292], loss_mse_y: [0.1079], loss_pv_z: [21.4773], loss_mse_v: [0.4979], loss_postrior_z: [21.9116]] \n"
     ]
    },
    {
     "name": "stdout",
     "output_type": "stream",
     "text": [
      "Epoch [70/100]: MSE_x: 0.1043, MSE_y: 0.0945, MSE_v: 0.4704\n",
      "\n"
     ]
    },
    {
     "name": "stderr",
     "output_type": "stream",
     "text": [
      "Epoch 71/100: 100%|██████████| 31/31 [00:00<00:00, 40.39batch/s, loss_px_z: [0.9044], loss_mse_x: [0.2561], loss_py_z: [0.0320], loss_mse_y: [0.0928], loss_pv_z: [46.1371], loss_mse_v: [0.5631], loss_postrior_z: [43.9721]] \n",
      "Epoch 72/100: 100%|██████████| 31/31 [00:00<00:00, 40.55batch/s, loss_px_z: [0.9444], loss_mse_x: [0.2966], loss_py_z: [0.0196], loss_mse_y: [0.0797], loss_pv_z: [19.6021], loss_mse_v: [0.8945], loss_postrior_z: [17.5958]] \n",
      "Epoch 73/100: 100%|██████████| 31/31 [00:00<00:00, 38.95batch/s, loss_px_z: [0.8074], loss_mse_x: [0.1602], loss_py_z: [0.0273], loss_mse_y: [0.0953], loss_pv_z: [-4.1999], loss_mse_v: [0.3263], loss_postrior_z: [-5.9067]] \n",
      "Epoch 74/100: 100%|██████████| 31/31 [00:00<00:00, 38.90batch/s, loss_px_z: [0.8309], loss_mse_x: [0.1842], loss_py_z: [0.0807], loss_mse_y: [0.1081], loss_pv_z: [-0.5576], loss_mse_v: [0.3672], loss_postrior_z: [-0.1338]]   \n",
      "Epoch 75/100: 100%|██████████| 31/31 [00:00<00:00, 39.60batch/s, loss_px_z: [0.9915], loss_mse_x: [0.3454], loss_py_z: [0.0948], loss_mse_y: [0.1057], loss_pv_z: [-0.5836], loss_mse_v: [0.3497], loss_postrior_z: [0.0726]]  \n",
      "Epoch 76/100: 100%|██████████| 31/31 [00:00<00:00, 38.81batch/s, loss_px_z: [0.9655], loss_mse_x: [0.3199], loss_py_z: [0.1265], loss_mse_y: [0.1119], loss_pv_z: [18.3637], loss_mse_v: [0.5895], loss_postrior_z: [17.6232]]   \n",
      "Epoch 77/100: 100%|██████████| 31/31 [00:00<00:00, 40.23batch/s, loss_px_z: [0.8451], loss_mse_x: [0.2001], loss_py_z: [0.1299], loss_mse_y: [0.1219], loss_pv_z: [16.0560], loss_mse_v: [0.4645], loss_postrior_z: [15.9145]] \n",
      "Epoch 78/100: 100%|██████████| 31/31 [00:00<00:00, 39.23batch/s, loss_px_z: [0.9355], loss_mse_x: [0.2911], loss_py_z: [0.2027], loss_mse_y: [0.1190], loss_pv_z: [29.1832], loss_mse_v: [0.5035], loss_postrior_z: [34.0870]] \n",
      "Epoch 79/100: 100%|██████████| 31/31 [00:00<00:00, 38.45batch/s, loss_px_z: [1.0449], loss_mse_x: [0.4010], loss_py_z: [0.1194], loss_mse_y: [0.1169], loss_pv_z: [16.4650], loss_mse_v: [0.4318], loss_postrior_z: [16.2582]]   \n",
      "Epoch 80/100: 100%|██████████| 31/31 [00:00<00:00, 40.28batch/s, loss_px_z: [1.0548], loss_mse_x: [0.4115], loss_py_z: [-0.0176], loss_mse_y: [0.0793], loss_pv_z: [18.6088], loss_mse_v: [0.7449], loss_postrior_z: [18.3221]] \n"
     ]
    },
    {
     "name": "stdout",
     "output_type": "stream",
     "text": [
      "Epoch [80/100]: MSE_x: 0.1056, MSE_y: 0.0979, MSE_v: 0.4621\n",
      "\n"
     ]
    },
    {
     "name": "stderr",
     "output_type": "stream",
     "text": [
      "Epoch 81/100: 100%|██████████| 31/31 [00:00<00:00, 38.33batch/s, loss_px_z: [1.1748], loss_mse_x: [0.5320], loss_py_z: [-0.0525], loss_mse_y: [0.0712], loss_pv_z: [13.7727], loss_mse_v: [0.4119], loss_postrior_z: [15.3153]]\n",
      "Epoch 82/100: 100%|██████████| 31/31 [00:00<00:00, 38.50batch/s, loss_px_z: [0.9923], loss_mse_x: [0.3501], loss_py_z: [0.0744], loss_mse_y: [0.1045], loss_pv_z: [28.1647], loss_mse_v: [0.5325], loss_postrior_z: [28.1192]]   \n",
      "Epoch 83/100: 100%|██████████| 31/31 [00:00<00:00, 38.06batch/s, loss_px_z: [0.9752], loss_mse_x: [0.3336], loss_py_z: [0.0175], loss_mse_y: [0.0916], loss_pv_z: [23.0075], loss_mse_v: [0.5135], loss_postrior_z: [22.5949]] \n",
      "Epoch 84/100: 100%|██████████| 31/31 [00:00<00:00, 38.23batch/s, loss_px_z: [1.0161], loss_mse_x: [0.3750], loss_py_z: [0.0634], loss_mse_y: [0.1165], loss_pv_z: [21.0281], loss_mse_v: [0.4663], loss_postrior_z: [23.2183]]   \n",
      "Epoch 85/100: 100%|██████████| 31/31 [00:00<00:00, 38.47batch/s, loss_px_z: [1.0856], loss_mse_x: [0.4451], loss_py_z: [0.0955], loss_mse_y: [0.1179], loss_pv_z: [7.4403], loss_mse_v: [0.3822], loss_postrior_z: [9.0421]]    \n",
      "Epoch 86/100: 100%|██████████| 31/31 [00:00<00:00, 37.80batch/s, loss_px_z: [1.0263], loss_mse_x: [0.3863], loss_py_z: [-0.1208], loss_mse_y: [0.0552], loss_pv_z: [4.3579], loss_mse_v: [0.3979], loss_postrior_z: [6.2537]]   \n",
      "Epoch 87/100: 100%|██████████| 31/31 [00:00<00:00, 38.00batch/s, loss_px_z: [0.9302], loss_mse_x: [0.2908], loss_py_z: [-0.0802], loss_mse_y: [0.0720], loss_pv_z: [-6.2616], loss_mse_v: [0.4105], loss_postrior_z: [-8.1179]]\n",
      "Epoch 88/100: 100%|██████████| 31/31 [00:00<00:00, 37.77batch/s, loss_px_z: [0.8830], loss_mse_x: [0.2441], loss_py_z: [0.1067], loss_mse_y: [0.0995], loss_pv_z: [-8.8058], loss_mse_v: [0.3547], loss_postrior_z: [-10.2541]] \n",
      "Epoch 89/100: 100%|██████████| 31/31 [00:00<00:00, 38.31batch/s, loss_px_z: [1.0417], loss_mse_x: [0.4034], loss_py_z: [0.0895], loss_mse_y: [0.1113], loss_pv_z: [16.5146], loss_mse_v: [0.4285], loss_postrior_z: [14.9562]] \n",
      "Epoch 90/100: 100%|██████████| 31/31 [00:00<00:00, 37.92batch/s, loss_px_z: [0.9579], loss_mse_x: [0.3202], loss_py_z: [-0.0218], loss_mse_y: [0.0877], loss_pv_z: [8.1148], loss_mse_v: [0.4944], loss_postrior_z: [7.5853]]    \n"
     ]
    },
    {
     "name": "stdout",
     "output_type": "stream",
     "text": [
      "Epoch [90/100]: MSE_x: 0.1048, MSE_y: 0.0901, MSE_v: 0.4616\n",
      "\n"
     ]
    },
    {
     "name": "stderr",
     "output_type": "stream",
     "text": [
      "Epoch 91/100: 100%|██████████| 31/31 [00:00<00:00, 37.70batch/s, loss_px_z: [1.0418], loss_mse_x: [0.4047], loss_py_z: [0.1727], loss_mse_y: [0.1297], loss_pv_z: [18.4237], loss_mse_v: [0.5001], loss_postrior_z: [17.2280]]  \n",
      "Epoch 92/100: 100%|██████████| 31/31 [00:00<00:00, 38.35batch/s, loss_px_z: [0.8539], loss_mse_x: [0.2173], loss_py_z: [-0.0223], loss_mse_y: [0.0864], loss_pv_z: [7.7179], loss_mse_v: [0.5274], loss_postrior_z: [8.9257]]   \n",
      "Epoch 93/100: 100%|██████████| 31/31 [00:00<00:00, 38.31batch/s, loss_px_z: [1.0316], loss_mse_x: [0.3956], loss_py_z: [0.0751], loss_mse_y: [0.1034], loss_pv_z: [1.5000], loss_mse_v: [0.3605], loss_postrior_z: [4.7367]]     \n",
      "Epoch 94/100: 100%|██████████| 31/31 [00:00<00:00, 39.03batch/s, loss_px_z: [0.9061], loss_mse_x: [0.2706], loss_py_z: [0.0319], loss_mse_y: [0.0991], loss_pv_z: [19.2899], loss_mse_v: [0.5272], loss_postrior_z: [15.1051]] \n",
      "Epoch 95/100: 100%|██████████| 31/31 [00:00<00:00, 39.75batch/s, loss_px_z: [0.9673], loss_mse_x: [0.3324], loss_py_z: [0.0117], loss_mse_y: [0.0881], loss_pv_z: [42.0822], loss_mse_v: [1.0189], loss_postrior_z: [42.3126]]  \n",
      "Epoch 96/100: 100%|██████████| 31/31 [00:00<00:00, 38.92batch/s, loss_px_z: [1.0039], loss_mse_x: [0.3695], loss_py_z: [-0.0452], loss_mse_y: [0.0741], loss_pv_z: [12.1354], loss_mse_v: [0.4718], loss_postrior_z: [13.9520]]\n",
      "Epoch 97/100: 100%|██████████| 31/31 [00:00<00:00, 38.72batch/s, loss_px_z: [0.8590], loss_mse_x: [0.2251], loss_py_z: [0.2560], loss_mse_y: [0.1401], loss_pv_z: [1.8470], loss_mse_v: [0.3774], loss_postrior_z: [4.3887]]     \n",
      "Epoch 98/100: 100%|██████████| 31/31 [00:00<00:00, 38.20batch/s, loss_px_z: [0.9607], loss_mse_x: [0.3274], loss_py_z: [-0.1076], loss_mse_y: [0.0676], loss_pv_z: [7.5202], loss_mse_v: [0.5497], loss_postrior_z: [8.3676]]   \n",
      "Epoch 99/100: 100%|██████████| 31/31 [00:00<00:00, 39.06batch/s, loss_px_z: [0.9013], loss_mse_x: [0.2685], loss_py_z: [-0.0696], loss_mse_y: [0.0758], loss_pv_z: [9.5441], loss_mse_v: [0.5897], loss_postrior_z: [12.4156]]   \n",
      "Epoch 100/100: 100%|██████████| 31/31 [00:00<00:00, 38.89batch/s, loss_px_z: [0.9726], loss_mse_x: [0.3404], loss_py_z: [0.0064], loss_mse_y: [0.0955], loss_pv_z: [6.4487], loss_mse_v: [0.4109], loss_postrior_z: [5.7205]]    \n"
     ]
    },
    {
     "name": "stdout",
     "output_type": "stream",
     "text": [
      "Epoch [100/100]: MSE_x: 0.1038, MSE_y: 0.0975, MSE_v: 0.4611\n",
      "\n"
     ]
    }
   ],
   "source": [
    "model.fit(data=(x,y,v), epochs=100, epochs_per_eval=10, verbose=1)"
   ]
  },
  {
   "cell_type": "markdown",
   "id": "4ccdc955",
   "metadata": {},
   "source": [
    "### Make predictions using the trained CausalBGM model\n",
    "\n",
    "| Config Parameter        | Description |\n",
    "|-------------------------|-------------|\n",
    "| `data`                 | Tuple of data inputs `(x, y, v)`, *Required.* |\n",
    "| `alpha`                | Significance level for the posterior interval. *Default: 0.01.* |\n",
    "| `n_mcmc`               | Number of posterior MCMC samples to draw. *Default: 3000.* |\n",
    "| `x_values`             | Treatment values for dose-response function to be predicted. *Examples: 1.0 or [1.0,2.0]* |\n",
    "| `q_sd`                 | Standard deviation for the proposal distribution used in Metropolis-Hastings (MH) sampling. *Default: 1.0.* |\n",
    "| `sample_y`             | Whether to consider the variance function in the outcome generative model. *Default: True.* |\n",
    "| `bs`                   | Batch size for processing posterior samples to improve efficiency. *Default: 100.* |\n",
    "\n",
    "\n",
    "| Return     | Type          | Description                                                                                             | Shape       |\n",
    "|------------|---------------|---------------------------------------------------------------------------------------------------------|-------------|\n",
    "| `pre_ite_mean`     | `np.ndarray`  | Point estimates of the Individual Treatment Effect (ITE).                                                  | `(len(x),)` |\n",
    "| `pre_ite_PI`  | `np.ndarray`  | Posterior intervals for the ITEs, representing `[lower bound, upper bound]` | `(len(x), 2)` "
   ]
  },
  {
   "cell_type": "code",
   "execution_count": 7,
   "id": "8468fbff",
   "metadata": {},
   "outputs": [
    {
     "name": "stdout",
     "output_type": "stream",
     "text": [
      "MCMC Latent Variable Sampling ...\n",
      "Final MCMC Acceptance Rate: 0.2953\n"
     ]
    }
   ],
   "source": [
    "pre_ite_mean, pre_ite_PI = model.predict(data=(x,y,v), alpha=0.01, n_mcmc=3000, q_sd=1.0)"
   ]
  },
  {
   "cell_type": "markdown",
   "id": "cdfc26bb",
   "metadata": {},
   "source": [
    "<div class=\"alert alert-warning\">\n",
    "<b>Model Diagnosis</b>\n",
    "\n",
    "- An ideal MCMC acceptance rate should be between 10% to 30%.\n",
    "    \n",
    "- The random seed will affect the MCMC process with Bayesian neural networks. We recommand to set it to *None*.\n",
    "\n",
    "</div>"
   ]
  },
  {
   "cell_type": "markdown",
   "id": "322c8ccd",
   "metadata": {},
   "source": [
    "### Evaluating the results\n",
    "\n",
    "Calculate the error of average treatment effect ($\\epsilon_{ATE}$) and precision in estimation of heterogeneous effect ($\\epsilon_{PEHE}$)."
   ]
  },
  {
   "cell_type": "code",
   "execution_count": 8,
   "id": "a7484414",
   "metadata": {},
   "outputs": [
    {
     "name": "stdout",
     "output_type": "stream",
     "text": [
      "Delta ATE (Absolute Error in Average Treatment Effect): 0.0042\n",
      "Delta PEHE (Precision in Estimation of Heterogeneous Effect): 0.0002\n"
     ]
    }
   ],
   "source": [
    "# Get the ground truth ITE\n",
    "ufid = '629e3d2c63914e45b227cc913c09cebe'\n",
    "covariants_file = '../../data/ACIC_2018/x.csv'\n",
    "df = pd.read_csv(covariants_file, index_col='sample_id',header=0, sep=',')\n",
    "df_sim = pd.read_csv('../../data/ACIC_2018/scaling/factuals/%s.csv'%ufid,index_col='sample_id',header=0, sep=',')\n",
    "dataset = df.join(df_sim, how='inner')\n",
    "data_x = dataset['z'].values\n",
    "data_y = dataset['y'].values\n",
    "cf_id = ufid + '_cf'\n",
    "y_true = pd.read_csv('../../data/ACIC_2018/scaling/counterfactuals/%s.csv'%cf_id,index_col='sample_id',header=0, sep=',')\n",
    "y_0 = y_true.values[:,0]\n",
    "y_1 = y_true.values[:,1]\n",
    "ite_true = y_true.values[:,1]-y_true.values[:,0]\n",
    "\n",
    "# Evaluate\n",
    "delta_ate = abs(np.mean(pre_ite_mean) - np.mean(ite_true))\n",
    "delta_pehe = np.mean((pre_ite_mean - ite_true)**2)\n",
    "\n",
    "print(f\"Delta ATE (Absolute Error in Average Treatment Effect): {delta_ate:.4f}\")\n",
    "print(f\"Delta PEHE (Precision in Estimation of Heterogeneous Effect): {delta_pehe:.4f}\")"
   ]
  },
  {
   "cell_type": "markdown",
   "id": "fb48b96a",
   "metadata": {},
   "source": [
    "## Use CausalBGM by a command-line interface (CLI)\n",
    "\n",
    "When installing the CausalBGM by `pip install bayesgm`, an indepedent console program will be available for general use. This has advantage of being generalizeable to non-python scripts! "
   ]
  },
  {
   "cell_type": "code",
   "execution_count": 1,
   "id": "bbdec536",
   "metadata": {
    "collapsed": true
   },
   "outputs": [
    {
     "name": "stdout",
     "output_type": "stream",
     "text": [
      "2025-01-20 11:39:03.121053: I tensorflow/core/platform/cpu_feature_guard.cc:193] This TensorFlow binary is optimized with oneAPI Deep Neural Network Library (oneDNN) to use the following CPU instructions in performance-critical operations:  AVX2 FMA\n",
      "To enable them in other operations, rebuild TensorFlow with the appropriate compiler flags.\n",
      "2025-01-20 11:39:03.245996: E tensorflow/stream_executor/cuda/cuda_blas.cc:2981] Unable to register cuBLAS factory: Attempting to register factory for plugin cuBLAS when one has already been registered\n",
      "2025-01-20 11:39:04.108993: W tensorflow/stream_executor/platform/default/dso_loader.cc:64] Could not load dynamic library 'libnvinfer.so.7'; dlerror: libnvinfer.so.7: cannot open shared object file: No such file or directory; LD_LIBRARY_PATH: /share/software/user/open/cudnn/8.1.1.33/lib64:/share/software/user/open/nccl/2.8.4/lib:/usr/lib64/nvidia:/share/software/user/open/cuda/11.2.0/targets/x86_64-linux/lib:/share/software/user/open/cuda/11.2.0/lib64:/share/software/user/open/cuda/11.2.0/nvvm/lib64:/share/software/user/open/cuda/11.2.0/extras/Debugger/lib64:/share/software/user/open/cuda/11.2.0/extras/CUPTI/lib64:/share/software/user/open/openblas/0.3.10/lib:/share/software/user/open/gcc/10.1.0/lib64:/share/software/user/open/gcc/10.1.0/lib/gcc/x86_64-pc-linux-gnu:/share/software/user/open/gcc/10.1.0/lib:/share/software/user/open/tensorrt/8.5.1.7/lib:/share/software/user/open/python/3.9.0/lib:/share/software/user/open/libffi/3.2.1/lib64:/share/software/user/open/sqlite/3.44.2/lib:/share/software/user/open/readline/8.2/lib:/share/software/user/open/ncurses/6.4/lib:/share/software/user/open/tcltk/8.6.6/lib:/share/software/user/open/libressl/3.2.1/lib:/share/software/user/open/zlib/1.2.11/lib\n",
      "2025-01-20 11:39:04.109144: W tensorflow/stream_executor/platform/default/dso_loader.cc:64] Could not load dynamic library 'libnvinfer_plugin.so.7'; dlerror: libnvinfer_plugin.so.7: cannot open shared object file: No such file or directory; LD_LIBRARY_PATH: /share/software/user/open/cudnn/8.1.1.33/lib64:/share/software/user/open/nccl/2.8.4/lib:/usr/lib64/nvidia:/share/software/user/open/cuda/11.2.0/targets/x86_64-linux/lib:/share/software/user/open/cuda/11.2.0/lib64:/share/software/user/open/cuda/11.2.0/nvvm/lib64:/share/software/user/open/cuda/11.2.0/extras/Debugger/lib64:/share/software/user/open/cuda/11.2.0/extras/CUPTI/lib64:/share/software/user/open/openblas/0.3.10/lib:/share/software/user/open/gcc/10.1.0/lib64:/share/software/user/open/gcc/10.1.0/lib/gcc/x86_64-pc-linux-gnu:/share/software/user/open/gcc/10.1.0/lib:/share/software/user/open/tensorrt/8.5.1.7/lib:/share/software/user/open/python/3.9.0/lib:/share/software/user/open/libffi/3.2.1/lib64:/share/software/user/open/sqlite/3.44.2/lib:/share/software/user/open/readline/8.2/lib:/share/software/user/open/ncurses/6.4/lib:/share/software/user/open/tcltk/8.6.6/lib:/share/software/user/open/libressl/3.2.1/lib:/share/software/user/open/zlib/1.2.11/lib\n",
      "2025-01-20 11:39:04.109169: W tensorflow/compiler/tf2tensorrt/utils/py_utils.cc:38] TF-TRT Warning: Cannot dlopen some TensorRT libraries. If you would like to use Nvidia GPU with TensorRT, please make sure the missing libraries mentioned above are installed properly.\n",
      "usage: CausalBGM [-h] -o OUTPUT_DIR -i INPUT [-t DELIMITER] [-d DATASET]\n",
      "                 [-F SAVE_FORMAT] [-save_model] [-save_res]\n",
      "                 [-B | --binary_treatment | --no-binary_treatment]\n",
      "                 [--use_egm_init | --no-use_egm_init]\n",
      "                 [--use_bnn | --no-use_bnn] [-Z Z_DIMS [Z_DIMS ...]]\n",
      "                 [--lr_theta LR_THETA] [--lr_z LR_Z] [--x_min X_MIN]\n",
      "                 [--x_max X_MAX] [--x_values X_VALUES [X_VALUES ...]]\n",
      "                 [--g_units G_UNITS [G_UNITS ...]]\n",
      "                 [--f_units F_UNITS [F_UNITS ...]]\n",
      "                 [--h_units H_UNITS [H_UNITS ...]] [--kl_weight KL_WEIGHT]\n",
      "                 [--lr LR] [--g_d_freq G_D_FREQ]\n",
      "                 [--e_units E_UNITS [E_UNITS ...]]\n",
      "                 [--dz_units DZ_UNITS [DZ_UNITS ...]]\n",
      "                 [--use-z-rec | --no-use-z-rec] [-N N_ITER]\n",
      "                 [--startoff STARTOFF] [--batches_per_eval BATCHES_PER_EVAL]\n",
      "                 [-E EPOCHS] [-M N_MCMC] [-q Q_SD]\n",
      "                 [--epochs_per_eval EPOCHS_PER_EVAL] [--alpha ALPHA]\n",
      "                 [--seed SEED]\n",
      "\n",
      "CausalBGM: An AI-powered Bayesian generative modeling approach for causal\n",
      "inference in observational studies - v0.2.0\n",
      "\n",
      "optional arguments:\n",
      "  -h, --help            show this help message and exit\n",
      "  -o OUTPUT_DIR, --output_dir OUTPUT_DIR\n",
      "                        Output directory\n",
      "  -i INPUT, --input INPUT\n",
      "                        Input data file must be in csv or txt or npz format\n",
      "  -t DELIMITER, --delimiter DELIMITER\n",
      "                        Delimiter for txt or csv files (default: tab '\\t').\n",
      "  -d DATASET, --dataset DATASET\n",
      "                        Dataset name\n",
      "  -F SAVE_FORMAT, --save_format SAVE_FORMAT\n",
      "                        Saving format (default: txt)\n",
      "  -save_model           whether to save model. (default: False)\n",
      "  -save_res             Whether to save intermediate results. (default: True)\n",
      "  -B, --binary_treatment, --no-binary_treatment\n",
      "                        Whether use binary treatment setting. (default: True)\n",
      "  --use_egm_init, --no-use_egm_init\n",
      "                        Whether use EGM initialization. (default: True)\n",
      "  --use_bnn, --no-use_bnn\n",
      "                        Whether use Bayesian neural nets. (default: True)\n",
      "  -Z Z_DIMS [Z_DIMS ...], --z_dims Z_DIMS [Z_DIMS ...]\n",
      "                        Latent dimensions of Z (default: [3, 3, 6, 6]).\n",
      "  --lr_theta LR_THETA   Learning rate for updating model parameters (default:\n",
      "                        0.0001).\n",
      "  --lr_z LR_Z           Learning rate for updating latent variables (default:\n",
      "                        0.0001).\n",
      "  --x_min X_MIN         Lower bound for treatment interval (default: 0.0).\n",
      "  --x_max X_MAX         Upper bound for treatment interval (default: 3.0).\n",
      "  --x_values X_VALUES [X_VALUES ...]\n",
      "                        List of treatment values to be predicted. Provide\n",
      "                        space-separated values. Example: --x_values 0.5 1.0\n",
      "                        1.5\n",
      "  --g_units G_UNITS [G_UNITS ...]\n",
      "                        Number of units for covariates generative model\n",
      "                        (default: [64,64,64,64,64]).\n",
      "  --f_units F_UNITS [F_UNITS ...]\n",
      "                        Number of units for outcome generative model (default:\n",
      "                        [64,32,8]).\n",
      "  --h_units H_UNITS [H_UNITS ...]\n",
      "                        Number of units for treatment generative model\n",
      "                        (default: [64,32,8]).\n",
      "  --kl_weight KL_WEIGHT\n",
      "                        Coefficient for KL divergence term in BNNs (default:\n",
      "                        0.0001).\n",
      "  --lr LR               Learning rate for EGM initialization (default:\n",
      "                        0.0002).\n",
      "  --g_d_freq G_D_FREQ   Frequency for updating discriminators and generators\n",
      "                        (default: 5).\n",
      "  --e_units E_UNITS [E_UNITS ...]\n",
      "                        Number of units for encoder network (default:\n",
      "                        [64,64,64,64,64]).\n",
      "  --dz_units DZ_UNITS [DZ_UNITS ...]\n",
      "                        Number of units for discriminator network in latent\n",
      "                        space (default: [64,32,8]).\n",
      "  --use-z-rec, --no-use-z-rec\n",
      "                        Use the reconstruction for latent features (default:\n",
      "                        True). (default: True)\n",
      "  -N N_ITER, --n_iter N_ITER\n",
      "                        Number of iterations (default: 30000).\n",
      "  --startoff STARTOFF   Iteration for starting evaluation (default: 0).\n",
      "  --batches_per_eval BATCHES_PER_EVAL\n",
      "                        Number of iterations per evaluation (default: 500).\n",
      "  -E EPOCHS, --epochs EPOCHS\n",
      "                        Number of epochs in iterative updating algorithm\n",
      "                        (default: 100).\n",
      "  -M N_MCMC, --n_mcmc N_MCMC\n",
      "                        MCMC sample size (default: 3000).\n",
      "  -q Q_SD, --q_sd Q_SD  Standard deviation for proposal distribution in MCMC,\n",
      "                        a negative q_sd denotes adaptive MCMC (default: 1.0).\n",
      "  --epochs_per_eval EPOCHS_PER_EVAL\n",
      "                        Number of epochs per evaluation (default: 10).\n",
      "  --alpha ALPHA         Significant level (default: 0.01).\n",
      "  --seed SEED           Random seed for reproduction (default: 123).\n"
     ]
    }
   ],
   "source": [
    "!causalBGM -h"
   ]
  },
  {
   "cell_type": "markdown",
   "id": "4a52c20b",
   "metadata": {},
   "source": [
    "The config parameters are consistent with the `Python APIs` in the previous sections. Here, we use a demo data (continous treatment setting) for an example!"
   ]
  },
  {
   "cell_type": "code",
   "execution_count": 2,
   "id": "fc1457a7",
   "metadata": {},
   "outputs": [
    {
     "name": "stdout",
     "output_type": "stream",
     "text": [
      "2025-01-20 11:39:17.090463: I tensorflow/core/platform/cpu_feature_guard.cc:193] This TensorFlow binary is optimized with oneAPI Deep Neural Network Library (oneDNN) to use the following CPU instructions in performance-critical operations:  AVX2 FMA\n",
      "To enable them in other operations, rebuild TensorFlow with the appropriate compiler flags.\n",
      "2025-01-20 11:39:17.213772: E tensorflow/stream_executor/cuda/cuda_blas.cc:2981] Unable to register cuBLAS factory: Attempting to register factory for plugin cuBLAS when one has already been registered\n",
      "2025-01-20 11:39:17.787946: W tensorflow/stream_executor/platform/default/dso_loader.cc:64] Could not load dynamic library 'libnvinfer.so.7'; dlerror: libnvinfer.so.7: cannot open shared object file: No such file or directory; LD_LIBRARY_PATH: /share/software/user/open/cudnn/8.1.1.33/lib64:/share/software/user/open/nccl/2.8.4/lib:/usr/lib64/nvidia:/share/software/user/open/cuda/11.2.0/targets/x86_64-linux/lib:/share/software/user/open/cuda/11.2.0/lib64:/share/software/user/open/cuda/11.2.0/nvvm/lib64:/share/software/user/open/cuda/11.2.0/extras/Debugger/lib64:/share/software/user/open/cuda/11.2.0/extras/CUPTI/lib64:/share/software/user/open/openblas/0.3.10/lib:/share/software/user/open/gcc/10.1.0/lib64:/share/software/user/open/gcc/10.1.0/lib/gcc/x86_64-pc-linux-gnu:/share/software/user/open/gcc/10.1.0/lib:/share/software/user/open/tensorrt/8.5.1.7/lib:/share/software/user/open/python/3.9.0/lib:/share/software/user/open/libffi/3.2.1/lib64:/share/software/user/open/sqlite/3.44.2/lib:/share/software/user/open/readline/8.2/lib:/share/software/user/open/ncurses/6.4/lib:/share/software/user/open/tcltk/8.6.6/lib:/share/software/user/open/libressl/3.2.1/lib:/share/software/user/open/zlib/1.2.11/lib\n",
      "2025-01-20 11:39:17.788041: W tensorflow/stream_executor/platform/default/dso_loader.cc:64] Could not load dynamic library 'libnvinfer_plugin.so.7'; dlerror: libnvinfer_plugin.so.7: cannot open shared object file: No such file or directory; LD_LIBRARY_PATH: /share/software/user/open/cudnn/8.1.1.33/lib64:/share/software/user/open/nccl/2.8.4/lib:/usr/lib64/nvidia:/share/software/user/open/cuda/11.2.0/targets/x86_64-linux/lib:/share/software/user/open/cuda/11.2.0/lib64:/share/software/user/open/cuda/11.2.0/nvvm/lib64:/share/software/user/open/cuda/11.2.0/extras/Debugger/lib64:/share/software/user/open/cuda/11.2.0/extras/CUPTI/lib64:/share/software/user/open/openblas/0.3.10/lib:/share/software/user/open/gcc/10.1.0/lib64:/share/software/user/open/gcc/10.1.0/lib/gcc/x86_64-pc-linux-gnu:/share/software/user/open/gcc/10.1.0/lib:/share/software/user/open/tensorrt/8.5.1.7/lib:/share/software/user/open/python/3.9.0/lib:/share/software/user/open/libffi/3.2.1/lib64:/share/software/user/open/sqlite/3.44.2/lib:/share/software/user/open/readline/8.2/lib:/share/software/user/open/ncurses/6.4/lib:/share/software/user/open/tcltk/8.6.6/lib:/share/software/user/open/libressl/3.2.1/lib:/share/software/user/open/zlib/1.2.11/lib\n",
      "2025-01-20 11:39:17.788058: W tensorflow/compiler/tf2tensorrt/utils/py_utils.cc:38] TF-TRT Warning: Cannot dlopen some TensorRT libraries. If you would like to use Nvidia GPU with TensorRT, please make sure the missing libraries mentioned above are installed properly.\n",
      "2025-01-20 11:39:19.651249: I tensorflow/core/platform/cpu_feature_guard.cc:193] This TensorFlow binary is optimized with oneAPI Deep Neural Network Library (oneDNN) to use the following CPU instructions in performance-critical operations:  AVX2 FMA\n",
      "To enable them in other operations, rebuild TensorFlow with the appropriate compiler flags.\n",
      "2025-01-20 11:39:20.144803: I tensorflow/core/common_runtime/gpu/gpu_device.cc:1616] Created device /job:localhost/replica:0/task:0/device:GPU:0 with 43430 MB memory:  -> device: 0, name: NVIDIA A40, pci bus id: 0000:06:00.0, compute capability: 8.6\n",
      "/home/users/liuqiao/.local/lib/python3.9/site-packages/tensorflow_probability/python/layers/util.py:95: UserWarning: `layer.add_variable` is deprecated and will be removed in a future version. Please use the `layer.add_weight()` method instead.\n",
      "  loc = add_variable_fn(\n",
      "/home/users/liuqiao/.local/lib/python3.9/site-packages/tensorflow_probability/python/layers/util.py:105: UserWarning: `layer.add_variable` is deprecated and will be removed in a future version. Please use the `layer.add_weight()` method instead.\n",
      "  untransformed_scale = add_variable_fn(\n",
      "2025-01-20 11:39:21.124243: I tensorflow/stream_executor/cuda/cuda_blas.cc:1614] TensorFloat-32 will be used for the matrix multiplication. This will only be logged once.\n",
      "EGM Initialization Starts ...\n",
      "EGM Initialization Iter [0] : e_loss_adv [0.0104], l2_loss_v [1.0768], l2_loss_z [0.9892], l2_loss_x [0.9474], l2_loss_y [4.9964], g_e_loss [8.0202], dz_loss [0.0822], d_loss [1.8063]\n",
      "EGM Initialization Iter [500] : e_loss_adv [1.9232], l2_loss_v [1.1323], l2_loss_z [1.2015], l2_loss_x [0.4507], l2_loss_y [2.8286], g_e_loss [7.5364], dz_loss [-0.9738], d_loss [-0.5502]\n",
      "EGM Initialization Iter [1000] : e_loss_adv [2.0145], l2_loss_v [0.9970], l2_loss_z [1.1143], l2_loss_x [1.5727], l2_loss_y [0.9798], g_e_loss [6.6785], dz_loss [-1.6597], d_loss [-1.3993]\n",
      "EGM Initialization Ends.\n",
      "Initialize latent variables Z with e(V)...\n",
      "Iterative Updating Starts ...\n",
      "Epoch 0/10: 100%|█| 3/3 [00:09<00:00,  3.25s/batch, loss_px_z: [1.7446], loss_ms\n",
      "Epoch [0/10]: MSE_x: 1.5652, MSE_y: 1.5891, MSE_v: 0.9300\n",
      "\n",
      "Epoch 1/10: 100%|█| 3/3 [00:00<00:00, 36.85batch/s, loss_px_z: [1.0154], loss_ms\n",
      "Epoch 2/10: 100%|█| 3/3 [00:00<00:00, 36.99batch/s, loss_px_z: [1.3450], loss_ms\n",
      "Epoch 3/10: 100%|█| 3/3 [00:00<00:00, 36.98batch/s, loss_px_z: [1.6738], loss_ms\n",
      "Epoch 4/10: 100%|█| 3/3 [00:00<00:00, 38.60batch/s, loss_px_z: [1.9682], loss_ms\n",
      "Epoch 5/10: 100%|█| 3/3 [00:00<00:00, 32.90batch/s, loss_px_z: [2.1426], loss_ms\n",
      "Epoch 6/10: 100%|█| 3/3 [00:00<00:00, 40.06batch/s, loss_px_z: [0.8936], loss_ms\n",
      "Epoch 7/10: 100%|█| 3/3 [00:00<00:00, 39.97batch/s, loss_px_z: [1.1379], loss_ms\n",
      "Epoch 8/10: 100%|█| 3/3 [00:00<00:00, 38.26batch/s, loss_px_z: [0.9878], loss_ms\n",
      "Epoch 9/10: 100%|█| 3/3 [00:00<00:00, 37.52batch/s, loss_px_z: [0.6265], loss_ms\n",
      "Epoch 10/10: 100%|█| 3/3 [00:00<00:00, 36.10batch/s, loss_px_z: [1.0492], loss_m\n",
      "Epoch [10/10]: MSE_x: 1.5488, MSE_y: 1.5971, MSE_v: 0.9248\n",
      "\n",
      "MCMC Latent Variable Sampling ...\n",
      "Final MCMC Acceptance Rate: 0.1590\n"
     ]
    }
   ],
   "source": [
    "!causalBGM  -i demo.csv -o ./ -d Demo -N 1000 -E 10 -M 500 -Z 1 1 1 7 --no-binary_treatment --x_values 0 1 2"
   ]
  },
  {
   "cell_type": "code",
   "execution_count": null,
   "id": "6e29907d",
   "metadata": {},
   "outputs": [],
   "source": []
  }
 ],
 "metadata": {
  "kernelspec": {
   "display_name": "Python 3 (ipykernel)",
   "language": "python",
   "name": "python3"
  },
  "language_info": {
   "codemirror_mode": {
    "name": "ipython",
    "version": 3
   },
   "file_extension": ".py",
   "mimetype": "text/x-python",
   "name": "python",
   "nbconvert_exporter": "python",
   "pygments_lexer": "ipython3",
   "version": "3.9.0"
  }
 },
 "nbformat": 4,
 "nbformat_minor": 5
}
